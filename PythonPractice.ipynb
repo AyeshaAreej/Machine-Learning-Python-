{
  "cells": [
    {
      "cell_type": "markdown",
      "metadata": {
        "id": "view-in-github",
        "colab_type": "text"
      },
      "source": [
        "<a href=\"https://colab.research.google.com/github/AyeshaAreej/Python-Practice-Course/blob/main/PythonPractice.ipynb\" target=\"_parent\"><img src=\"https://colab.research.google.com/assets/colab-badge.svg\" alt=\"Open In Colab\"/></a>"
      ]
    },
    {
      "cell_type": "code",
      "execution_count": null,
      "metadata": {
        "colab": {
          "base_uri": "https://localhost:8080/"
        },
        "id": "Nk6sefse4M-4",
        "outputId": "aab8f078-7430-4eae-ac5e-125c725dcacd"
      },
      "outputs": [
        {
          "output_type": "stream",
          "name": "stdout",
          "text": [
            "hi\n"
          ]
        }
      ],
      "source": [
        "print(\"hi\")\n"
      ]
    },
    {
      "cell_type": "code",
      "execution_count": null,
      "metadata": {
        "id": "aTZNsMpB4uwb"
      },
      "outputs": [],
      "source": [
        "#importing module\n",
        "#os is built in modules\n",
        "import os\n",
        "#importing one thing from module\n",
        "#from fibonassi import fib"
      ]
    },
    {
      "cell_type": "code",
      "execution_count": null,
      "metadata": {
        "colab": {
          "base_uri": "https://localhost:8080/"
        },
        "id": "mZMSpZ8m5qkT",
        "outputId": "a2440007-8e51-42ac-fd22-d28b202f2849"
      },
      "outputs": [
        {
          "output_type": "stream",
          "name": "stdout",
          "text": [
            " Twinkle twinkle little start, \n",
            " How I wonder what you are!\n",
            " Up above the world so high,\n",
            " Like a diamond in the sky. \n"
          ]
        }
      ],
      "source": [
        "#chapter 1 1st question\n",
        "#multiline comment\n",
        "'''this is a poeeeeeeeeeeeeeeeeeeeeeeeee\n",
        "mmmmmmmmmmmmmmmmmmmmmmmmm\n",
        "'''\n",
        "\n",
        "#multiline string\n",
        "print(''' Twinkle twinkle little start, \n",
        " How I wonder what you are!\n",
        " Up above the world so high,\n",
        " Like a diamond in the sky. ''')"
      ]
    },
    {
      "cell_type": "code",
      "execution_count": null,
      "metadata": {
        "colab": {
          "base_uri": "https://localhost:8080/"
        },
        "id": "viuvr29G9dIq",
        "outputId": "e66f045d-f06b-459a-bdfd-6f88e3dac4cd"
      },
      "outputs": [
        {
          "output_type": "stream",
          "name": "stdout",
          "text": [
            "['.config', 'drive', 'sample_data']\n"
          ]
        }
      ],
      "source": [
        "#q4 print directories of module\n",
        "print(os.listdir())"
      ]
    },
    {
      "cell_type": "code",
      "execution_count": null,
      "metadata": {
        "colab": {
          "base_uri": "https://localhost:8080/"
        },
        "id": "yWqJzu04917g",
        "outputId": "22b3914a-b49f-4bf9-925e-8a33880eebed"
      },
      "outputs": [
        {
          "output_type": "stream",
          "name": "stdout",
          "text": [
            "1 ayesha 43.2\n"
          ]
        }
      ],
      "source": [
        "#Chapter 2 variables and data types\n",
        "#int\n",
        "num=1\n",
        "#string\n",
        "name=\"ayesha\"\n",
        "#float\n",
        "fltnum=43.2\n",
        "\n",
        "print(num,name,fltnum)"
      ]
    },
    {
      "cell_type": "code",
      "execution_count": null,
      "metadata": {
        "colab": {
          "base_uri": "https://localhost:8080/"
        },
        "id": "1cQwqz43-7TW",
        "outputId": "03d68a88-46b0-4565-ecbe-2aa4362be815"
      },
      "outputs": [
        {
          "output_type": "stream",
          "name": "stdout",
          "text": [
            " '\"ayesha\"'  \n",
            "None\n",
            "<class 'int'>\n",
            "5\n",
            "True\n",
            "The value of bool 1 and bool 2 is  False\n"
          ]
        }
      ],
      "source": [
        "#We use triple qotes when we wamt sigle and double qote to be part of it \n",
        "a=''' '\"ayesha\"'  '''\n",
        "print(a)\n",
        "\n",
        "#none data type\n",
        "c=None\n",
        "print(c)\n",
        "\n",
        "#printing the type of variable\n",
        "a=10\n",
        "print(type(a))\n",
        "\n",
        "#assignment operators\n",
        "a-=5\n",
        "print(a)\n",
        "\n",
        "#comparisoon operators\n",
        "b=(a<6)\n",
        "print(b)\n",
        "\n",
        "#logical operators work on boolean operands\n",
        "bool1=True\n",
        "bool2 =False\n",
        "print(\"The value of bool 1 and bool 2 is \", (bool1 and bool2))\n",
        "\n"
      ]
    },
    {
      "cell_type": "code",
      "execution_count": null,
      "metadata": {
        "colab": {
          "base_uri": "https://localhost:8080/"
        },
        "id": "TvC2-vFVEl12",
        "outputId": "b1dcc893-3ca6-4738-c80a-d49b730d8fb1"
      },
      "outputs": [
        {
          "output_type": "stream",
          "name": "stdout",
          "text": [
            "35\n"
          ]
        }
      ],
      "source": [
        "#Type casting (a way to convert 1 datatype on another)\n",
        "#converting string into integer\n",
        "b=\"33\"\n",
        "b=int(b)\n",
        "print(b+2)"
      ]
    },
    {
      "cell_type": "code",
      "execution_count": null,
      "metadata": {
        "colab": {
          "base_uri": "https://localhost:8080/"
        },
        "id": "JPXFrX22FHYv",
        "outputId": "cc69c46b-ab67-4f7d-91ca-fd9ef30343a9"
      },
      "outputs": [
        {
          "output_type": "stream",
          "name": "stdout",
          "text": [
            "Enter your name:AYESHA\n",
            "AYESHA\n",
            "Enter a number :2\n",
            "2\n",
            "type of 2nd input now is  <class 'int'>\n"
          ]
        }
      ],
      "source": [
        "#input\n",
        "\n",
        "c=input(\"Enter your name:\")\n",
        "print(c)\n",
        "\n",
        "d=input(\"Enter a number :\")\n",
        "d=int(d)\n",
        "print(d)\n",
        "\n",
        "print(\"type of 2nd input now is \", type(d))\n",
        "\n",
        "\n",
        "#always an input is string so if you need other type do type casting\n"
      ]
    },
    {
      "cell_type": "code",
      "execution_count": null,
      "metadata": {
        "colab": {
          "base_uri": "https://localhost:8080/"
        },
        "id": "_XmaHaoJGA62",
        "outputId": "97094f84-0762-493a-cbc4-6f2d58d297b6"
      },
      "outputs": [
        {
          "output_type": "stream",
          "name": "stdout",
          "text": [
            "a+b= 20\n",
            "The reminder when a is divided by b is  0\n",
            "Enter your name:AYESHA\n",
            "<class 'str'>\n",
            "True\n",
            "Enter 1st number:1\n",
            "Enter 2nd number :2\n",
            "The average of two numbers is 1.5\n",
            "Enter a number to get its square3\n",
            "9\n"
          ]
        }
      ],
      "source": [
        "#Chapter2 practice set\n",
        "\n",
        "#q1\n",
        "a=10\n",
        "b=10\n",
        "print(\"a+b=\", a+b)\n",
        "\n",
        "#q2\n",
        "#reminder of number\n",
        "print(\"The reminder when a is divided by b is \",a%2) \n",
        "\n",
        "\n",
        "#q3\n",
        "#checking type of input\n",
        "c=input(\"Enter your name:\")\n",
        "print(type(c))\n",
        "\n",
        "#q4\n",
        "a=11\n",
        "b=10\n",
        "\n",
        "print(a>b)\n",
        "\n",
        "#q5\n",
        "#input\n",
        "\n",
        "c=input(\"Enter 1st number:\")\n",
        "c=int(c)\n",
        "d=input(\"Enter 2nd number :\")\n",
        "d=int(d)\n",
        "e=(c+d)/2 \n",
        "print(\"The average of two numbers is\",e)\n",
        "\n",
        "#q6\n",
        "#Square of a number entered by user\n",
        "num=input(\"Enter a number to get its square\")\n",
        "num=int(num)\n",
        "num*=num\n",
        "print(num)\n"
      ]
    },
    {
      "cell_type": "code",
      "execution_count": null,
      "metadata": {
        "colab": {
          "base_uri": "https://localhost:8080/"
        },
        "id": "t2dHtNGDXEj5",
        "outputId": "e39542ca-c96c-4a55-e5cc-17926c9e06b7"
      },
      "outputs": [
        {
          "output_type": "stream",
          "name": "stdout",
          "text": [
            "Ayesha's Ayesha\"s\n",
            "Good Morning Ayesha\n",
            "A\n",
            "Aye\n",
            "Aye\n",
            "Ayesha\n",
            "sh\n",
            "Aeh\n",
            "As\n",
            "17\n",
            "True\n",
            "2\n",
            "1\n",
            "11\n",
            "Hello this is ayesha\n"
          ]
        }
      ],
      "source": [
        "#Chapter 3\n",
        "#Strings Data type\n",
        "a=\"Ayesha's\"\n",
        "b='Ayesha\"s'\n",
        "print(a,b)\n",
        "\n",
        "#Concatinating two strings\n",
        "greeting=\"Good Morning\"\n",
        "name=\"Ayesha\"\n",
        "print(greeting + ' ' +name)\n",
        "\n",
        "#String slicing\n",
        "print(name[0])\n",
        "#name[3]=\"d\" doesn't support \n",
        "print(name[0:3]) #from 0 to 2 excludes 3\n",
        "print(name[:3])\n",
        "print(name[0:])  #print full name\n",
        "print(name[-3:-1]) # from end to -3rd position\n",
        "#why negative indexes for fetaure selection when you don't know their length\n",
        "\n",
        "#Skip slicing\n",
        "print(name[0:6:2]) #3rd argument is skip value (skiping one character)\n",
        "print(name[0::3])# skip 2 values and print 3rd one\n",
        "\n",
        "#length of string\n",
        "story=\"Hi this is ayesha\"\n",
        "print(len(story))\n",
        "\n",
        "#ends with function (ending string)\n",
        "print(story.endswith(\"ayesha\"))\n",
        "print(story.count(\"a\")) #counting character\n",
        "print(story.count(\"ayesha\"))\n",
        "print(story.find(\"ayesha\")) #print index of string finds only 1st occurance\n",
        "print(story.replace(\"Hi\", \"Hello\"))\n",
        "\n",
        "#escape characters\n",
        "#\\n for new line \\t for tab \\' for qote \\\\ backlash(2 time for printing backlash)\n",
        "\n",
        "\n"
      ]
    },
    {
      "cell_type": "code",
      "execution_count": null,
      "metadata": {
        "colab": {
          "base_uri": "https://localhost:8080/"
        },
        "id": "7EYjh-VW_dax",
        "outputId": "b8db6454-ea67-44ba-aa6b-a39dd8354a20"
      },
      "outputs": [
        {
          "output_type": "stream",
          "name": "stdout",
          "text": [
            "Good Afternoon Ayesha\n",
            "Dear <|NAME|>,\n",
            "You are selected!\n",
            "Date:<|DATE|>\n",
            "\n",
            "4\n",
            "Good Morning\n",
            "Dear Ayesha,\n",
            "\tThis Python course is nice!\n",
            "Thanks!\n"
          ]
        }
      ],
      "source": [
        "#Chapter 3 Paractice Set\n",
        "#q1 user entered name with good afternoon\n",
        "#name=input(\"Enter your name\")\n",
        "print(\"Good Afternoon\"+' '+name)\n",
        "\n",
        "#q2 Program to fill in a letter template given  with name and date \n",
        "letter='''Dear <|NAME|>,\n",
        "You are selected!\n",
        "Date:<|DATE|>\n",
        "'''\n",
        "#name=input(\"Enter your name\")\n",
        "#date=input(\"Enter date\")\n",
        "#letter=letter.replace(\"<|NAME|>\",name)\n",
        "#letter=letter.replace(\"<|DATE|>\",date)\n",
        "print(letter)\n",
        "\n",
        "#q3 program to detect double spaces in a word\n",
        "var=\"Good  Morning\"\n",
        "doubleSpaces=var.find(\"  \")\n",
        "print(doubleSpaces) #if exist print index \n",
        "\n",
        "#q4 replace 2 spaces with single\n",
        "var=var.replace(\"  \",\" \")\n",
        "print(var)\n",
        "\n",
        "#q5 format letter with escape sequence \n",
        "letter=\"Dear Ayesha, Thus Python course is nice! Thanks\"\n",
        "formattedLetter=\"Dear Ayesha,\\n\\tThis Python course is nice!\\nThanks!\"\n",
        "print(formattedLetter)\n"
      ]
    },
    {
      "cell_type": "code",
      "execution_count": null,
      "metadata": {
        "colab": {
          "base_uri": "https://localhost:8080/"
        },
        "id": "XF5ECc9Zz-9E",
        "outputId": "a57f6bad-9cc2-443b-d219-9693629f0f09"
      },
      "outputs": [
        {
          "output_type": "stream",
          "name": "stdout",
          "text": [
            "[1, 2, 3, 4, 5]\n",
            "[4, 'Ayesha', 98.6]\n",
            "['Maham', 'Hina']\n",
            "[1, 2, 3, 4, 5, 6, 7, 8, 9, 10]\n",
            "[1, 2, 3, 4, 5, 6, 7, 8, 9, 10, 11]\n",
            "[1, 2, 3, 4, 5, 6, 7, 8, 9, 10]\n",
            "[1, 2, 3, 4, 5, 6, 7, 8, 9]\n",
            "2\n",
            "1\n",
            "Making fuits list\n"
          ]
        },
        {
          "output_type": "execute_result",
          "data": {
            "text/plain": [
              "3"
            ]
          },
          "metadata": {},
          "execution_count": 15
        }
      ],
      "source": [
        "#Chapter 4 List and Tuples\n",
        "#List store a set of values of any data type and it is ordered\n",
        "#Repeated values are allowed\n",
        "#List can be updated unlike tuple\n",
        "list=[1,2,3,6,5]\n",
        "list[3]=4\n",
        "print(list)\n",
        "\n",
        "#Hybrid data type\n",
        "c=[4,\"Ayesha\", 98.6]\n",
        "print(c)\n",
        "\n",
        "#List Slicing\n",
        "friends=[\"Maham\",\"Hina\",\"Hooram\"]\n",
        "print(friends[0:2])\n",
        "\n",
        "#sorting it sort and update actual list\n",
        "list=[9,8,7,6,5,4,3,2,1]\n",
        "list.sort()\n",
        "list.append(10)\n",
        "print(list)\n",
        "\n",
        "#other methods\n",
        "#list.reverse() list.append() list list.insert(3,8)\n",
        "list.insert(10,11)\n",
        "print(list)\n",
        "list.pop(10)\n",
        "print(list)\n",
        "#remove fun remove give \n",
        "list.remove(10)\n",
        "print(list)\n",
        "\n",
        "#tuples uses square brackets\n",
        "t=(1,2,3,4,1)\n",
        "#major differnce tuples are immutable\n",
        "#t[1]=5 not allowed\n",
        "#t1=(1) wrong way to declare a tuple with single element give comma like following\n",
        "t1=(1,)\n",
        "print(t.count(1))\n",
        "print(t.index(2))\n",
        "\n",
        "#Chapter Practice set\n",
        "#q1 \n",
        "print(\"Making fuits list\")\n",
        "#f1=input(\"Enter 1st Fruit Name\")\n",
        "#f2=input(\"Enter 2nd Fruit Name: \")\n",
        "#f3=input(\"Enter 3rd Fruit Name: \")\n",
        "#f4=input(\"Enter 4th Fruit Name: \")\n",
        "#f5=input(\"Enter 5th Fruit Name: \")\n",
        "#f6=input(\"Enter 6th Fruit Name: \")\n",
        "#f7=input(\"Enter 7th Fruit Name: \")\n",
        "#fruits=[f1,f2]\n",
        "#print(fruits)\n",
        "\n",
        "#q2\n",
        "#print(\"Marks of 6 students\")\n",
        "#s1=int(input(\"Enter 1st Syudent's Marks: \"))\n",
        "#s2=int(input(\"Enter 2nd Syudent's Marks: \"))\n",
        "#s3=int(input(\"Enter 3rd Syudent's Marks: \"))\n",
        "#s4=int(input(\"Enter 4th Syudent's Marks: \"))\n",
        "#s5=int(input(\"Enter 5th Syudent's Marks: \"))\n",
        "#s6=int(input(\"Enter 6th Syudent's Marks: \"))\n",
        "#marksList=[s1,s2,s3,s4,s5,s6]\n",
        "#marksList.sort()\n",
        "#print(marksList)\n",
        "\n",
        "#q3 check tuple can't be changed\n",
        "#q4 to count number of zeroes in tuple a=(7,0,8,0,0,9)\n",
        "a=(7,0,8,0,0,9)\n",
        "a.count(0)\n",
        "\n",
        "\n",
        "\n"
      ]
    },
    {
      "cell_type": "code",
      "execution_count": null,
      "metadata": {
        "colab": {
          "base_uri": "https://localhost:8080/"
        },
        "id": "Nug-CkaM-hdk",
        "outputId": "c2262bc8-34e9-4b48-f0c8-80db178d1e76"
      },
      "outputs": [
        {
          "output_type": "stream",
          "name": "stdout",
          "text": [
            "In a quick manner\n",
            "dict_keys(['fast', 'greeting', 'marks', 1])\n",
            "dict_values(['In a quick manner', 'Hello', [1, 2, 3], 2])\n",
            "<class 'dict_keys'>\n",
            "<class 'dict_values'>\n",
            "{'fast': 'In a quick manner', 'greeting': 'Hello', 'marks': [1, 2, 3], 1: 2, 'Cat': 'Animal'}\n",
            "None\n",
            "<class 'set'>\n",
            "<class 'set'>\n",
            "{6}\n",
            "{(7, 8, 9), 6} 2\n",
            "1\n",
            "{3, 4}\n",
            "{9, 3, 4}\n",
            "{3}\n"
          ]
        }
      ],
      "source": [
        "#Chapter 5 Dictionary & Sets\n",
        "#Collection of key value pairs\n",
        "#it is mutable and unordered can't access by typing dict[1]\n",
        "#starings and numbers are allowed , no duplicate keys update previous key value pair\n",
        "myDict={\n",
        "    \"fast\":\"In a quick manner\",\n",
        "     \"greeting\":\"Hello\",\n",
        "     \"marks\":[1,2,3],\n",
        "     1:2 #integer pair\n",
        "}\n",
        "#dict methods\n",
        "print(myDict[\"fast\"])\n",
        "print(myDict.keys())\n",
        "print(myDict.values())\n",
        "print(type(myDict.keys()))\n",
        "print(type(myDict.values()))\n",
        "#converting dict type into list\n",
        "#print(list(myDict.keys()))\n",
        "#print(list(myDict.items())) #print both keys and \n",
        "updateDict={\n",
        "     \"Cat\":\"Animal\"\n",
        "}\n",
        "myDict.update(updateDict)\n",
        "print(myDict)\n",
        "\n",
        "#it returns null not an error if key isn't present in dictionary unlike this: myDict[\"keys\"]\n",
        "print(myDict.get(\"fast2\"))\n",
        "\n",
        "#Set Collection of non repetative elements\n",
        "#sets are unordered and unindexed can't change items in sets, no duplicate values\n",
        "a={1,3,4,5}\n",
        "print(type(a))\n",
        "#empty set a={} this is empty dictionary\n",
        "b=set() #way to create empty set\n",
        "print(type(b))\n",
        "b.add(6)\n",
        "print(b)\n",
        "#can't add list and dictionary in sets becuase they are mutable and sets are imutable but can add tuple\n",
        "b.add((7,8,9))\n",
        "print(b, len(b))\n",
        "a.remove(5)\n",
        "print(a.pop()) #remove arbitary element\n",
        "\n",
        "print(a)\n",
        "print(a.union({4,9}))\n",
        "print(a.intersection({3}))\n"
      ]
    },
    {
      "cell_type": "code",
      "execution_count": null,
      "metadata": {
        "colab": {
          "base_uri": "https://localhost:8080/",
          "height": 209
        },
        "id": "Fd_gF0vP717w",
        "outputId": "efd738c5-1687-4693-8af1-609108f27b96"
      },
      "outputs": [
        {
          "output_type": "stream",
          "name": "stdout",
          "text": [
            "{8, '18'}\n",
            "<class 'set'>\n",
            "3\n",
            "<class 'dict'>\n"
          ]
        },
        {
          "output_type": "execute_result",
          "data": {
            "text/plain": [
              "'fvrtLanguages={}\\nname1=input(\"Enter 1st friend name \")\\nlang1=input(\"Enter 1st friend\\'s fvt language \")\\nname2=input(\"Enter 2nd friend name \")\\nlang2=input(\"Enter 2nd friend\\'s fvt language \")\\nname3=input(\"Enter 3rdfriend name \")\\nlang3=input(\"Enter 3rd friend\\'s fvt language \")\\nname4=input(\"Enter 4th friend name \")\\nlang4=input(\"Enter 4th friend\\'s fvt language \")\\nfvrtLanguages[name1]=lang1\\nfvrtLanguages[name2]=lang2\\nfvrtLanguages[name3]=lang3\\nfvrtLanguages[name4]=lang4\\nprint(fvrtLanguages)'"
            ],
            "application/vnd.google.colaboratory.intrinsic+json": {
              "type": "string"
            }
          },
          "metadata": {},
          "execution_count": 18
        }
      ],
      "source": [
        "#chapter 5 practie set\n",
        "#q1 urdu words dictionary\n",
        "myDict={\n",
        "    \"Pankha\":\"Fan\",\n",
        "     \"Dabba\":\"Box\",\n",
        "     \"Kursi\":\"Chair\",\n",
        "}\n",
        "#a=input(\"Enter the urdu word\\n\")\n",
        "#print(\"The meaning of your word is:\", myDict[a])\n",
        "#avioding missing value error\n",
        "#print(\"The meaning of your word is:\", myDict.get(a))\n",
        "\n",
        "#q2\n",
        "#Input 8 numbers and display unique numbers\n",
        "#num1=int(input(\"Enter number 1:\\n\"))\n",
        "#num2=int(input(\"Enter number 2:\\n\"))\n",
        "#num3=int(input(\"Enter number 3:\\n\"))\n",
        "#num4=int(input(\"Enter number 4:\\n\"))\n",
        "#num5=int(input(\"Enter number 5:\\n\"))\n",
        "#num6=int(input(\"Enter number 6:\\n\"))\n",
        "#num7=int(input(\"Enter number 7:\\n\"))\n",
        "#num8=int(input(\"Enter number 8:\\n\"))\n",
        "#numbers={num1,num2,num3,num4,num5,num6,num7,num8}\n",
        "#print(numbers)\n",
        "\n",
        "#q3\n",
        "#can a set have both 18 integer and \"18\" value Ans:Yes allowed\n",
        "s={8,\"18\"} \n",
        "print(s)\n",
        "print(type(s))\n",
        "\n",
        "#q4 legth of set\n",
        "s=set()\n",
        "s.add(20)\n",
        "s.add(20.3)\n",
        "s.add(\"20\")\n",
        "print(len(s)) #print only 2\n",
        "\n",
        "#q5 type of s  it is dictionary #not a empty set as it creates with s=set()\n",
        "s={}\n",
        "print(type(s))\n",
        "\n",
        "#q6 Allow 4 friends to enter theor fvrt languages as values and use keys as their names \n",
        "'''fvrtLanguages={}\n",
        "name1=input(\"Enter 1st friend name \")\n",
        "lang1=input(\"Enter 1st friend's fvt language \")\n",
        "name2=input(\"Enter 2nd friend name \")\n",
        "lang2=input(\"Enter 2nd friend's fvt language \")\n",
        "name3=input(\"Enter 3rdfriend name \")\n",
        "lang3=input(\"Enter 3rd friend's fvt language \")\n",
        "name4=input(\"Enter 4th friend name \")\n",
        "lang4=input(\"Enter 4th friend's fvt language \")\n",
        "fvrtLanguages[name1]=lang1\n",
        "fvrtLanguages[name2]=lang2\n",
        "fvrtLanguages[name3]=lang3\n",
        "fvrtLanguages[name4]=lang4\n",
        "print(fvrtLanguages)'''\n",
        "\n",
        "#q7 what will happen if two keys(names) are same\n",
        "#latest value assigned to key will be there\n",
        "#q8 what happen if twpo values are same \n",
        "#ans dictionary will print both as there is no restriction of unique values\n",
        "\n",
        "\n",
        "#q9 can we change the values inside a list which is contained in following set\n",
        "#s={8,7,12,\"Harry\",[1,2]} or s={8,7,12,\"Harry\",(1,2)}\n",
        "#Answer the set is actually wrong can't store list in set and tuple can't be changed\n",
        "\n",
        "\n"
      ]
    },
    {
      "cell_type": "code",
      "source": [
        "#Chapter 6 Conditionals\n",
        "a=45\n",
        "if(a<10):\n",
        "  print(\"A is less than 10\")\n",
        "elif(a<20):\n",
        "   print(\"A is less than 20 and greater than 10\")\n",
        "elif(a<30): \n",
        "   print(\"A is less than 30 and greater than 20\")\n",
        "elif(a<40): \n",
        "  print(\"A is less than 40 and greater than 30\")\n",
        "else:\n",
        "   print(\"A is greater than 40 \")\n",
        "\n",
        "\n",
        "#Practice set\n",
        "#q1 find greatest of 4 numbers entered by user\n",
        "'''num1=int(input(\"Enter num1 \"))\n",
        "num2=int(input(\"Enter num2 \"))\n",
        "num3=int(input(\"Enter num3 \"))\n",
        "num4=int(input(\"Enter num4 \"))\n",
        "\n",
        "if(num1 > num4 ):\n",
        "  f1=num1\n",
        "else:\n",
        "  f1=num4\n",
        "if(num2 > num3):\n",
        "  f1=num2\n",
        "else:\n",
        "  f2=num4\n",
        "\n",
        "if(f1>f2):\n",
        "  print(str(f1) + \" is greatest \")\n",
        "else:\n",
        "  print(str(f2) + \" is greatest \")'''\n",
        "\n",
        "#q2 Whether student is pass/fail requires total 40% and atleast 33% in each of 3 subjects\n",
        "'''\n",
        "subj1=int(input(\"Enter subject 1 marks in % \"))\n",
        "subj2=int(input(\"Enter subject 2 marks in % \"))\n",
        "subj3=int(input(\"Enter subject 3 marks in % \"))\n",
        "\n",
        "total=(subj1+subj2+subj3)/3\n",
        "\n",
        "if(total >= 40):\n",
        "  if(subj1>=33 and subj2>=33 and subj3>=33 ):\n",
        "    print(\"Congratulations! You are pass\")\n",
        "  else:\n",
        "    print(\"You are fail because you have less than 33% in one of the subject\")\n",
        "else:\n",
        "  print(\"You are fail due to total percentage less than 40\")'''\n",
        "\n",
        "\n",
        "\n",
        "#q3 Detecting spam words\n",
        "'''spamWords=['buy now', 'subscribe this', 'click this']\n",
        "#email=\"This is a nice stock, click this and buy now\"\n",
        "email=input(\"Enter your email \")\n",
        "spam=False\n",
        "if('buy now' in email):\n",
        "  spam=True\n",
        "if('subscribe this' in email):\n",
        "  spam=True\n",
        "if('click this' in email):\n",
        "  spam=True\n",
        "print(\"Spam is \", spam)'''\n",
        "\n",
        "#q4 check whether username contain 10 characters\n",
        "'''username=input(\"Enter username to \")\n",
        "if(len(username) > 10):\n",
        "  print(\"Username contain greater than 10 characters\")\n",
        "else:\n",
        "   print(\"Username contain less than 10 characters\")'''\n",
        "\n",
        "#q5 check whether a given name is present in list or not\n",
        "'''mylist=['Ayesha', 'Maham', 'Kiran']\n",
        "name=input(\"Enter your name to search in list\")\n",
        "\n",
        "if(name in mylist):\n",
        "  print(\"Your name is present in list\")\n",
        "else:\n",
        "  print(\"Your name is not present in list\")'''\n",
        "\n",
        "\n",
        "#q6 Students grades\n",
        "'''marks=int(input(\"Enter your marks to display the grade\"))\n",
        "if(marks<50):\n",
        "  print(\"Grade: Fail\")\n",
        "elif(marks>50 and marks<60):\n",
        "   print(\"Grade: D\")\n",
        "elif(marks>60 and marks<70): \n",
        "   print(\"Gerade: C\")\n",
        "elif(marks>70 and marks<80): \n",
        "  print(\"Grade: B\")\n",
        "elif(marks>80 and marks<90): \n",
        "  print(\"Grade: A\")\n",
        "elif(marks>90 and marks<100): \n",
        "  print(\"Grade: Ex\")\n",
        "else:\n",
        "   print(\"Grade: None\")'''\n",
        "\n",
        "\n",
        "\n",
        "\n",
        "\n",
        "\n",
        "\n",
        "\n",
        "\n"
      ],
      "metadata": {
        "colab": {
          "base_uri": "https://localhost:8080/"
        },
        "id": "_67Ws4G61Bxj",
        "outputId": "2c803ae2-8579-4f32-90ff-431afc753bf8"
      },
      "execution_count": null,
      "outputs": [
        {
          "output_type": "stream",
          "name": "stdout",
          "text": [
            "A is greater than 40 \n",
            "Enter your name to search in listAyesha\n",
            "Your name is present in list\n"
          ]
        }
      ]
    },
    {
      "cell_type": "code",
      "execution_count": null,
      "metadata": {
        "colab": {
          "base_uri": "https://localhost:8080/"
        },
        "id": "jftljXdd0bu9",
        "outputId": "ea65c19e-ffba-4671-ef67-f68c619bb080"
      },
      "outputs": [
        {
          "output_type": "stream",
          "name": "stdout",
          "text": [
            "hello\n",
            "this is ayesha\n",
            "\n"
          ]
        }
      ],
      "source": [
        "#assignment\n",
        "#reading from txt file\n",
        "from google.colab import drive\n",
        "path='/content/sample_data/document.text'\n",
        "with open (path, 'r') as f: # r is mode it can be w or a(open file for appending text)\n",
        "  print(f.read())\n",
        "  f.close()\n",
        "  #readline() read a single line\n",
        "\n"
      ]
    },
    {
      "cell_type": "code",
      "execution_count": null,
      "metadata": {
        "colab": {
          "base_uri": "https://localhost:8080/"
        },
        "id": "YMS28cGJVqZz",
        "outputId": "1e401fe7-d02e-4659-d8ee-eda310ba29b3"
      },
      "outputs": [
        {
          "output_type": "stream",
          "name": "stdout",
          "text": [
            "[[44 55 66]]\n",
            "[[77 88 99]]\n"
          ]
        }
      ],
      "source": [
        "\n",
        "\n",
        "  \n",
        "#assignment 2\n",
        "import numpy\n",
        "from numpy import array\n",
        "data=array([\n",
        "    [11,22,33],\n",
        "    [44,55,66],\n",
        "    [77,88,99]\n",
        "])\n",
        "split=2\n",
        "train,test=data[1:split,:],data[split:,:]\n",
        "print(train)\n",
        "print(test)"
      ]
    },
    {
      "cell_type": "code",
      "execution_count": null,
      "metadata": {
        "id": "pULAWuNaIwIs"
      },
      "outputs": [],
      "source": [
        "import pandas as pd\n",
        "import matplotlib.pyplot as plt"
      ]
    },
    {
      "cell_type": "code",
      "execution_count": null,
      "metadata": {
        "id": "5kL7kCIueiYx"
      },
      "outputs": [],
      "source": [
        "#create 2D array of table given above\n",
        "data = [['E001', 'M', 34, 123, 'Normal', 350],\n",
        "        ['E002', 'F', 40, 114, 'Overweight', 450],\n",
        "        ['E003', 'F', 37, 135, 'Obesity', 169],\n",
        "        ['E004', 'M', 30, 139, 'Underweight', 189],\n",
        "        ['E005', 'F', 44, 117, 'Underweight', 183],\n",
        "        ['E006', 'M', 36, 121, 'Normal', 80],\n",
        "        ['E007', 'M', 32, 133, 'Obesity', 166],\n",
        "        ['E008', 'F', 26, 140, 'Normal', 120],\n",
        "        ['E009', 'M', 32, 133, 'Normal', 75],\n",
        "        ['E010', 'M', 36, 133, 'Underweight', 40] ]"
      ]
    },
    {
      "cell_type": "code",
      "execution_count": null,
      "metadata": {
        "colab": {
          "base_uri": "https://localhost:8080/"
        },
        "id": "dxkdNqbier5K",
        "outputId": "4edffa03-7258-4e6c-c04a-eeb1b03ecf9e"
      },
      "outputs": [
        {
          "output_type": "stream",
          "name": "stdout",
          "text": [
            "[['E001', 'M', 34, 123, 'Normal', 350], ['E002', 'F', 40, 114, 'Overweight', 450], ['E003', 'F', 37, 135, 'Obesity', 169], ['E004', 'M', 30, 139, 'Underweight', 189], ['E005', 'F', 44, 117, 'Underweight', 183], ['E006', 'M', 36, 121, 'Normal', 80], ['E007', 'M', 32, 133, 'Obesity', 166], ['E008', 'F', 26, 140, 'Normal', 120], ['E009', 'M', 32, 133, 'Normal', 75], ['E010', 'M', 36, 133, 'Underweight', 40]]\n"
          ]
        }
      ],
      "source": [
        "print(data)"
      ]
    },
    {
      "cell_type": "code",
      "execution_count": null,
      "metadata": {
        "id": "EbGw7rf-eusj"
      },
      "outputs": [],
      "source": [
        "# dataframe created with\n",
        "# the above data array\n",
        "df = pd.DataFrame(data, columns = ['EMPID', 'Gender', \n",
        "                                    'Age', 'Sales',\n",
        "                                    'BMI', 'Income'] )"
      ]
    },
    {
      "cell_type": "code",
      "execution_count": null,
      "metadata": {
        "colab": {
          "base_uri": "https://localhost:8080/"
        },
        "id": "WJq_nyyTe0CW",
        "outputId": "3116d641-3c8f-40ed-ce08-a6e82b7c334e"
      },
      "outputs": [
        {
          "output_type": "stream",
          "name": "stdout",
          "text": [
            "  EMPID Gender  Age  Sales          BMI  Income\n",
            "0  E001      M   34    123       Normal     350\n",
            "1  E002      F   40    114   Overweight     450\n",
            "2  E003      F   37    135      Obesity     169\n",
            "3  E004      M   30    139  Underweight     189\n",
            "4  E005      F   44    117  Underweight     183\n",
            "5  E006      M   36    121       Normal      80\n",
            "6  E007      M   32    133      Obesity     166\n",
            "7  E008      F   26    140       Normal     120\n",
            "8  E009      M   32    133       Normal      75\n",
            "9  E010      M   36    133  Underweight      40\n"
          ]
        }
      ],
      "source": [
        "print(df)"
      ]
    },
    {
      "cell_type": "code",
      "execution_count": null,
      "metadata": {
        "colab": {
          "base_uri": "https://localhost:8080/",
          "height": 281
        },
        "id": "x1JuImbNg-Tm",
        "outputId": "68da3851-e419-4db2-d2e0-001a2e702bac"
      },
      "outputs": [
        {
          "output_type": "display_data",
          "data": {
            "text/plain": [
              "<Figure size 432x288 with 4 Axes>"
            ],
            "image/png": "[encoded data removed]"
          },
          "metadata": {
            "needs_background": "light"
          }
        }
      ],
      "source": [
        "#Type 1 Histogram\n",
        "df.hist()\n",
        "  \n",
        "# show plot\n",
        "plt.show()"
      ]
    },
    {
      "cell_type": "code",
      "execution_count": null,
      "metadata": {
        "colab": {
          "base_uri": "https://localhost:8080/",
          "height": 276
        },
        "id": "GumX-bSbhVtm",
        "outputId": "607e1b7c-fc2b-49d6-ebb2-4b6cfd01f911"
      },
      "outputs": [
        {
          "output_type": "display_data",
          "data": {
            "text/plain": [
              "<Figure size 432x288 with 1 Axes>"
            ],
            "image/png": "[encoded data removed]"
          },
          "metadata": {
            "needs_background": "light"
          }
        }
      ],
      "source": [
        "#Type 2 Column Chart \n",
        "#A column chart is used to show a comparison among different attributes, or it can show a comparison of items over time.\n",
        "\n",
        "df.plot.bar()\n",
        "  \n",
        "# plot between 2 attributes\n",
        "plt.bar(df['Age'], df['Sales'])\n",
        "plt.xlabel(\"Age\")\n",
        "plt.ylabel(\"Sales\")\n",
        "plt.show()"
      ]
    },
    {
      "cell_type": "code",
      "execution_count": null,
      "metadata": {
        "colab": {
          "base_uri": "https://localhost:8080/",
          "height": 265
        },
        "id": "V3Vf8uWdj18B",
        "outputId": "568d8331-2114-480a-b913-d83801553b03"
      },
      "outputs": [
        {
          "output_type": "display_data",
          "data": {
            "text/plain": [
              "<Figure size 432x288 with 1 Axes>"
            ],
            "image/png": "[encoded data removed]"
          },
          "metadata": {
            "needs_background": "light"
          }
        }
      ],
      "source": [
        "#Type 3 Box Plot\n",
        "#A box plot is a graphical representation of statistical data based on the minimum, first quartile, median, third quartile, and maximum. \n",
        "# For each numeric attribute of dataframe\n",
        "df.plot.box()\n",
        "  \n",
        "# individual attribute box plot\n",
        "plt.boxplot(df['Income'])\n",
        "plt.show()"
      ]
    },
    {
      "cell_type": "code",
      "execution_count": null,
      "metadata": {
        "colab": {
          "base_uri": "https://localhost:8080/",
          "height": 710
        },
        "id": "x-NB9kwekbBn",
        "outputId": "4d3ae345-447a-4326-bbfe-258f53bddad0"
      },
      "outputs": [
        {
          "output_type": "display_data",
          "data": {
            "text/plain": [
              "<Figure size 432x288 with 1 Axes>"
            ],
            "image/png": "[encoded data removed]"
          },
          "metadata": {}
        },
        {
          "output_type": "display_data",
          "data": {
            "text/plain": [
              "<Figure size 432x288 with 1 Axes>"
            ],
            "image/png": "[encoded data removed]"
          },
          "metadata": {}
        },
        {
          "output_type": "display_data",
          "data": {
            "text/plain": [
              "<Figure size 432x288 with 1 Axes>"
            ],
            "image/png": "[encoded data removed]"
          },
          "metadata": {}
        }
      ],
      "source": [
        "#Type 4\n",
        "# Pie Chart :\n",
        "#pie chart shows a static number and how categories represent part of a whole the composition of something.\n",
        "#A pie chart represents numbers in percentages, and the total sum of all segments needs to equal 100%.\n",
        "\n",
        "plt.pie(df['Age'], labels = {\"A\", \"B\", \"C\",\n",
        "                             \"D\", \"E\", \"F\",\n",
        "                             \"G\", \"H\", \"I\", \"J\"},\n",
        "                               \n",
        "autopct ='% 1.1f %%', shadow = True)\n",
        "plt.show()\n",
        "  \n",
        "plt.pie(df['Income'], labels = {\"A\", \"B\", \"C\",\n",
        "                                \"D\", \"E\", \"F\",\n",
        "                                \"G\", \"H\", \"I\", \"J\"},\n",
        "                                  \n",
        "autopct ='% 1.1f %%', shadow = True)\n",
        "plt.show()\n",
        "  \n",
        "plt.pie(df['Sales'], labels = {\"A\", \"B\", \"C\",\n",
        "                               \"D\", \"E\", \"F\",\n",
        "                               \"G\", \"H\", \"I\", \"J\"},\n",
        "autopct ='% 1.1f %%', shadow = True)\n",
        "plt.show()"
      ]
    },
    {
      "cell_type": "markdown",
      "source": [
        "## **Data Discretization/ Data Classification**"
      ],
      "metadata": {
        "id": "Ivh7k3WIaNyK"
      }
    },
    {
      "cell_type": "code",
      "source": [
        "#Data Assignement\n",
        "import pandas as pd \n",
        "mydataset={\n",
        "    'Name':[\"Ayesha\",\"Maham\",\"Ali\",\"Kiran\",\"Khizar\",\"Hina\",\"John\",\"Ilyana\",\"Zain\"],\n",
        "    'Gender':['F','F','M','F','M','F','M','F','M'],\n",
        "    'age':[23,8,15,24,3,34,12,40,6]\n",
        "}\n",
        "\n",
        "df=pd.DataFrame(mydataset)\n",
        "print(df)\n",
        "\n"
      ],
      "metadata": {
        "colab": {
          "base_uri": "https://localhost:8080/"
        },
        "id": "N2-rttd2bZO3",
        "outputId": "599d0b0a-f825-4907-e03a-a8a284a19081"
      },
      "execution_count": null,
      "outputs": [
        {
          "output_type": "stream",
          "name": "stdout",
          "text": [
            "     Name Gender  age\n",
            "0  Ayesha      F   23\n",
            "1   Maham      F    8\n",
            "2     Ali      M   15\n",
            "3   Kiran      F   24\n",
            "4  Khizar      M    3\n",
            "5    Hina      F   34\n",
            "6    John      M   12\n",
            "7  Ilyana      F   40\n",
            "8    Zain      M    6\n"
          ]
        }
      ]
    },
    {
      "cell_type": "markdown",
      "source": [],
      "metadata": {
        "id": "ZM2hLiw2aMyZ"
      }
    },
    {
      "cell_type": "code",
      "source": [
        "df.head()"
      ],
      "metadata": {
        "colab": {
          "base_uri": "https://localhost:8080/",
          "height": 206
        },
        "id": "zSoopUJPfrVo",
        "outputId": "c53784c7-8136-4a15-c2ba-b3995e516306"
      },
      "execution_count": null,
      "outputs": [
        {
          "output_type": "execute_result",
          "data": {
            "text/plain": [
              "     Name Gender  age\n",
              "0  Ayesha      F   23\n",
              "1   Maham      F    8\n",
              "2     Ali      M   15\n",
              "3   Kiran      F   24\n",
              "4  Khizar      M    3"
            ],
            "text/html": [
              "\n",
              "  <div id=\"df-ffe372b8-4cc8-4951-a5c2-0edbd206bb1a\">\n",
              "    <div class=\"colab-df-container\">\n",
              "      <div>\n",
              "<style scoped>\n",
              "    .dataframe tbody tr th:only-of-type {\n",
              "        vertical-align: middle;\n",
              "    }\n",
              "\n",
              "    .dataframe tbody tr th {\n",
              "        vertical-align: top;\n",
              "    }\n",
              "\n",
              "    .dataframe thead th {\n",
              "        text-align: right;\n",
              "    }\n",
              "</style>\n",
              "<table border=\"1\" class=\"dataframe\">\n",
              "  <thead>\n",
              "    <tr style=\"text-align: right;\">\n",
              "      <th></th>\n",
              "      <th>Name</th>\n",
              "      <th>Gender</th>\n",
              "      <th>age</th>\n",
              "    </tr>\n",
              "  </thead>\n",
              "  <tbody>\n",
              "    <tr>\n",
              "      <th>0</th>\n",
              "      <td>Ayesha</td>\n",
              "      <td>F</td>\n",
              "      <td>23</td>\n",
              "    </tr>\n",
              "    <tr>\n",
              "      <th>1</th>\n",
              "      <td>Maham</td>\n",
              "      <td>F</td>\n",
              "      <td>8</td>\n",
              "    </tr>\n",
              "    <tr>\n",
              "      <th>2</th>\n",
              "      <td>Ali</td>\n",
              "      <td>M</td>\n",
              "      <td>15</td>\n",
              "    </tr>\n",
              "    <tr>\n",
              "      <th>3</th>\n",
              "      <td>Kiran</td>\n",
              "      <td>F</td>\n",
              "      <td>24</td>\n",
              "    </tr>\n",
              "    <tr>\n",
              "      <th>4</th>\n",
              "      <td>Khizar</td>\n",
              "      <td>M</td>\n",
              "      <td>3</td>\n",
              "    </tr>\n",
              "  </tbody>\n",
              "</table>\n",
              "</div>\n",
              "      <button class=\"colab-df-convert\" onclick=\"convertToInteractive('df-ffe372b8-4cc8-4951-a5c2-0edbd206bb1a')\"\n",
              "              title=\"Convert this dataframe to an interactive table.\"\n",
              "              style=\"display:none;\">\n",
              "        \n",
              "  <svg xmlns=\"http://www.w3.org/2000/svg\" height=\"24px\"viewBox=\"0 0 24 24\"\n",
              "       width=\"24px\">\n",
              "    <path d=\"M0 0h24v24H0V0z\" fill=\"none\"/>\n",
              "    <path d=\"M18.56 5.44l.94 2.06.94-2.06 2.06-.94-2.06-.94-.94-2.06-.94 2.06-2.06.94zm-11 1L8.5 8.5l.94-2.06 2.06-.94-2.06-.94L8.5 2.5l-.94 2.06-2.06.94zm10 10l.94 2.06.94-2.06 2.06-.94-2.06-.94-.94-2.06-.94 2.06-2.06.94z\"/><path d=\"M17.41 7.96l-1.37-1.37c-.4-.4-.92-.59-1.43-.59-.52 0-1.04.2-1.43.59L10.3 9.45l-7.72 7.72c-.78.78-.78 2.05 0 2.83L4 21.41c.39.39.9.59 1.41.59.51 0 1.02-.2 1.41-.59l7.78-7.78 2.81-2.81c.8-.78.8-2.07 0-2.86zM5.41 20L4 18.59l7.72-7.72 1.47 1.35L5.41 20z\"/>\n",
              "  </svg>\n",
              "      </button>\n",
              "      \n",
              "  <style>\n",
              "    .colab-df-container {\n",
              "      display:flex;\n",
              "      flex-wrap:wrap;\n",
              "      gap: 12px;\n",
              "    }\n",
              "\n",
              "    .colab-df-convert {\n",
              "      background-color: #E8F0FE;\n",
              "      border: none;\n",
              "      border-radius: 50%;\n",
              "      cursor: pointer;\n",
              "      display: none;\n",
              "      fill: #1967D2;\n",
              "      height: 32px;\n",
              "      padding: 0 0 0 0;\n",
              "      width: 32px;\n",
              "    }\n",
              "\n",
              "    .colab-df-convert:hover {\n",
              "      background-color: #E2EBFA;\n",
              "      box-shadow: 0px 1px 2px rgba(60, 64, 67, 0.3), 0px 1px 3px 1px rgba(60, 64, 67, 0.15);\n",
              "      fill: #174EA6;\n",
              "    }\n",
              "\n",
              "    [theme=dark] .colab-df-convert {\n",
              "      background-color: #3B4455;\n",
              "      fill: #D2E3FC;\n",
              "    }\n",
              "\n",
              "    [theme=dark] .colab-df-convert:hover {\n",
              "      background-color: #434B5C;\n",
              "      box-shadow: 0px 1px 3px 1px rgba(0, 0, 0, 0.15);\n",
              "      filter: drop-shadow(0px 1px 2px rgba(0, 0, 0, 0.3));\n",
              "      fill: #FFFFFF;\n",
              "    }\n",
              "  </style>\n",
              "\n",
              "      <script>\n",
              "        const buttonEl =\n",
              "          document.querySelector('#df-ffe372b8-4cc8-4951-a5c2-0edbd206bb1a button.colab-df-convert');\n",
              "        buttonEl.style.display =\n",
              "          google.colab.kernel.accessAllowed ? 'block' : 'none';\n",
              "\n",
              "        async function convertToInteractive(key) {\n",
              "          const element = document.querySelector('#df-ffe372b8-4cc8-4951-a5c2-0edbd206bb1a');\n",
              "          const dataTable =\n",
              "            await google.colab.kernel.invokeFunction('convertToInteractive',\n",
              "                                                     [key], {});\n",
              "          if (!dataTable) return;\n",
              "\n",
              "          const docLinkHtml = 'Like what you see? Visit the ' +\n",
              "            '<a target=\"_blank\" href=https://colab.research.google.com/notebooks/data_table.ipynb>data table notebook</a>'\n",
              "            + ' to learn more about interactive tables.';\n",
              "          element.innerHTML = '';\n",
              "          dataTable['output_type'] = 'display_data';\n",
              "          await google.colab.output.renderOutput(dataTable, element);\n",
              "          const docLink = document.createElement('div');\n",
              "          docLink.innerHTML = docLinkHtml;\n",
              "          element.appendChild(docLink);\n",
              "        }\n",
              "      </script>\n",
              "    </div>\n",
              "  </div>\n",
              "  "
            ]
          },
          "metadata": {},
          "execution_count": 39
        }
      ]
    },
    {
      "cell_type": "code",
      "source": [
        "print(df.info())"
      ],
      "metadata": {
        "colab": {
          "base_uri": "https://localhost:8080/"
        },
        "id": "Rfx_l5pafz1B",
        "outputId": "7eab04ed-545c-4e15-d71e-01d05bfd0999"
      },
      "execution_count": null,
      "outputs": [
        {
          "output_type": "stream",
          "name": "stdout",
          "text": [
            "<class 'pandas.core.frame.DataFrame'>\n",
            "RangeIndex: 9 entries, 0 to 8\n",
            "Data columns (total 3 columns):\n",
            " #   Column  Non-Null Count  Dtype \n",
            "---  ------  --------------  ----- \n",
            " 0   Name    9 non-null      object\n",
            " 1   Gender  9 non-null      object\n",
            " 2   age     9 non-null      int64 \n",
            "dtypes: int64(1), object(2)\n",
            "memory usage: 344.0+ bytes\n",
            "None\n"
          ]
        }
      ]
    },
    {
      "cell_type": "code",
      "source": [
        "#Classifing gender data, class 1 for Mail and class 0 for female \n",
        "for x in df.index:\n",
        "  if df.loc[x,\"Gender\"]=='M':\n",
        "     df.loc[x,\"Gender\"]='1'\n",
        "  elif df.loc[x,\"Gender\"]=='F':\n",
        "       df.loc[x,\"Gender\"]='0'\n",
        "  else:\n",
        "    df.loc[x,\"Gender\"]=' '\n",
        "\n",
        "print(df)\n",
        " "
      ],
      "metadata": {
        "colab": {
          "base_uri": "https://localhost:8080/"
        },
        "id": "tGX9hSmskSHc",
        "outputId": "4909c3d5-e612-4e50-a89e-5dcb34a2dfd4"
      },
      "execution_count": null,
      "outputs": [
        {
          "output_type": "stream",
          "name": "stdout",
          "text": [
            "     Name Gender  age\n",
            "0  Ayesha      0   23\n",
            "1   Maham      0    8\n",
            "2     Ali      1   15\n",
            "3   Kiran      0   24\n",
            "4  Khizar      1    3\n",
            "5    Hina      0   34\n",
            "6    John      1   12\n",
            "7  Ilyana      0   40\n",
            "8    Zain      1    6\n"
          ]
        }
      ]
    },
    {
      "cell_type": "code",
      "source": [
        "new_col = []\n",
        "for x in df['age']:\n",
        "  if(x > 30):\n",
        "    new_col.append(1)\n",
        "  else:\n",
        "    new_col.append(0)\n",
        "df['Class'] = new_col\n",
        "\n",
        "print(df)"
      ],
      "metadata": {
        "colab": {
          "base_uri": "https://localhost:8080/"
        },
        "id": "4T_FZ0BqmqOp",
        "outputId": "b57f3712-e606-4eea-c884-19e2e4caa29c"
      },
      "execution_count": null,
      "outputs": [
        {
          "output_type": "stream",
          "name": "stdout",
          "text": [
            "     Name Gender  age  Class\n",
            "0  Ayesha      0   23      0\n",
            "1   Maham      0    8      0\n",
            "2     Ali      1   15      0\n",
            "3   Kiran      0   24      0\n",
            "4  Khizar      1    3      0\n",
            "5    Hina      0   34      1\n",
            "6    John      1   12      0\n",
            "7  Ilyana      0   40      1\n",
            "8    Zain      1    6      0\n"
          ]
        }
      ]
    },
    {
      "cell_type": "code",
      "source": [
        "#print(df)\n",
        "#3rd Assignment part 2\n",
        "#Dividing age group in 0, 1 and 2 class based on specified range\n",
        "for x in df.index:\n",
        "  if df.loc[x,\"age\"]<10:\n",
        "     df.loc[x,\"age\"]=0\n",
        "  elif df.loc[x,\"age\"]<30:\n",
        "       df.loc[x,\"age\"]=1\n",
        "  else:\n",
        "    df.loc[x,\"age\"]=2\n",
        "\n",
        "print(df)\n",
        " \n"
      ],
      "metadata": {
        "colab": {
          "base_uri": "https://localhost:8080/"
        },
        "id": "yDP1UkWUgQXq",
        "outputId": "69ab3428-c971-4bc4-c6e4-6ddd39fa0aa5"
      },
      "execution_count": null,
      "outputs": [
        {
          "output_type": "stream",
          "name": "stdout",
          "text": [
            "     Name Gender  age  Class\n",
            "0  Ayesha      0    1      0\n",
            "1   Maham      0    0      0\n",
            "2     Ali      1    1      0\n",
            "3   Kiran      0    1      0\n",
            "4  Khizar      1    0      0\n",
            "5    Hina      0    2      1\n",
            "6    John      1    1      0\n",
            "7  Ilyana      0    2      1\n",
            "8    Zain      1    0      0\n"
          ]
        }
      ]
    },
    {
      "cell_type": "code",
      "source": [
        "#Numpy\n",
        "import numpy as np\n",
        "\n",
        "#To create an ndarray, we can pass a list, tuple or any array-like object into the array() method,\n",
        "#and it will be converted into an ndarray:\n",
        "arr=np.array([9,8,7,6,5,4,3,2,1])\n",
        "arr1=np.array((1,2,3,4))\n",
        "\n",
        "print(np.__version__)\n",
        "print(arr)\n",
        "print(arr1)\n",
        "print(type(arr))\n",
        "\n",
        "#0-D array\n",
        "zeroDarr=np.array(1)\n",
        "print(zeroDarr)\n",
        "#1-D array\n",
        "oneDarr=np.array([1,2,3,4,5])\n",
        "print(\"One D array\", oneDarr)\n",
        "#2-D array\n",
        "twoDarr=np.array([[1,2,3],[4,5,6]])\n",
        "print(\"Two D array \\n\", twoDarr)\n",
        "#3-D array\n",
        "threeDarr=np.array([[[1,2,3],[4,5,6]],[[7,8,9],[10,11,12]]])\n",
        "print(\"Three D array\\n\", threeDarr)\n",
        "\n",
        "#5-D array (via ndimn attribute)\n",
        "fiveDarr=np.array([1,2,3,4,5], ndmin=5)\n",
        "print(\"Five D array\", fiveDarr)\n",
        "\n",
        "#Finding dimensions of array using ndim\n",
        "print(\"Dimesnions of fifth array are: \", fiveDarr.ndim )\n",
        "\n",
        "#Numpy Array Slicing\n",
        "\n",
        "#Slicing Elements from index 0 to index less than 5 (means index 4)\n",
        "arr=np.array([1,2,3,4,5,6,7])\n",
        "print(arr[0:5])\n",
        "print(arr[-3:-1]) #printing from right side\n",
        "\n",
        "#Using step value [start:end:step]\n",
        "#Return every 2nd element from entire array\n",
        "print(arr[1:6:2])\n",
        "\n",
        "#Creating an array with data type 4 bytes integer other type (S=string): \n",
        "arr=np.array([1,2,3,4],dtype='i4')\n",
        "print(arr, arr.dtype)\n",
        "#If a type is given in which elements can't be casted then Numpy will raise  a ValueError\n",
        "#arr=np.array(['a','1','2','3','4'],dtype='i4') #this will give a value error\n",
        "\n",
        "#changing datatype from float to integer astype create copy of array and change type\n",
        "arr=np.array([1.1,2.2,3.3,4.4,5.5,6.6])\n",
        "newarr=arr.astype('i')\n",
        "print(newarr)\n",
        "print(newarr.dtype)\n",
        "\n",
        "#Get the shape of an array\n",
        "#returns a tuple with 1st element as array dimensions and 2nd as number of columns\n",
        "arr=np.array([[1,2,3,4],[5,6,7,8]])\n",
        "print(arr)\n",
        "print(arr.shape)\n",
        "\n",
        "#Reshaping arrays, the shape of an array is number of rows and the number of element in each dimension\n",
        "#By reshaping we can add or remove dimensions or change number of elements in each dimensions\n",
        "arr=np.array([1,2,3,4,5,6,7,8,9,10,11,12])\n",
        "newarr=arr.reshape(4,3)\n",
        "print(newarr.ndim)\n",
        "\n",
        "#NUMPY Array Iterating\n",
        "threeDarr=np.array([[[1,2,3],[4,5,6]],[[7,8,9],[10,11,12]]])\n",
        "#Conventional Way\n",
        "'''for x in threeDarr:\n",
        "  for y in x:\n",
        "    for z in y:\n",
        "      print(z)'''\n",
        "\n",
        "#Iterating Arrays using nditer() solve many problems\n",
        "#In basic for loops, iterating through each scalar of an array we need n for loops for n dimensions and complexity increases with high dimensions\n",
        "'''for x in np.nditer(threeDarr):\n",
        "  print(x)'''\n",
        "\n",
        "#Numpy array splitting\n",
        "#Splitting is reverse operation of joining, joining merges multiple arrays into one.\n",
        "#Splitting breaks one array into multiple arrays.\n",
        "#Method array_split() we pass it the array we want to split and number of splits.\n",
        "arr=np.array([1,2,3,4,5,6])\n",
        "newarr=np.array(np.array_split(arr,3))\n",
        "print(newarr)\n",
        "print(newarr.shape)\n",
        "\n",
        "#Spliting 2d array into 3 2d arrays \n",
        "arr=np.array([[1,2],[3,4],[5,6],[7,8],[9,10],[11,12]])\n",
        "print(arr.shape)\n",
        "newarr=np.array(np.array_split(arr,3))\n",
        "print(newarr)\n",
        "print(newarr.shape)\n",
        "\n",
        "#Train and Test Data Split\n",
        "data= np.array([[11,22,33],\n",
        "            [44,55,66],\n",
        "            [77,88,99]])\n",
        "split=2;\n",
        "train,test=data[:split,:],data[split:,:]\n",
        "print(\"Train Data: \", train)\n",
        "print(\" Test Data: \", test)\n",
        "\n"
      ],
      "metadata": {
        "colab": {
          "base_uri": "https://localhost:8080/"
        },
        "id": "bpynAUfA9fOo",
        "outputId": "4944cc78-3d57-4a0c-dba1-c41a9a076e2e"
      },
      "execution_count": null,
      "outputs": [
        {
          "output_type": "stream",
          "name": "stdout",
          "text": [
            "1.21.6\n",
            "[9 8 7 6 5 4 3 2 1]\n",
            "[1 2 3 4]\n",
            "<class 'numpy.ndarray'>\n",
            "1\n",
            "One D array [1 2 3 4 5]\n",
            "Two D array \n",
            " [[1 2 3]\n",
            " [4 5 6]]\n",
            "Three D array\n",
            " [[[ 1  2  3]\n",
            "  [ 4  5  6]]\n",
            "\n",
            " [[ 7  8  9]\n",
            "  [10 11 12]]]\n",
            "Five D array [[[[[1 2 3 4 5]]]]]\n",
            "Dimesnions of fifth array are:  5\n",
            "[1 2 3 4 5]\n",
            "[5 6]\n",
            "[2 4 6]\n",
            "[1 2 3 4] int32\n",
            "[1 2 3 4 5 6]\n",
            "int32\n",
            "[[1 2 3 4]\n",
            " [5 6 7 8]]\n",
            "(2, 4)\n",
            "(12,)\n",
            "2\n",
            "[[1 2]\n",
            " [3 4]\n",
            " [5 6]]\n",
            "(3, 2)\n",
            "(6, 2)\n",
            "[[[ 1  2]\n",
            "  [ 3  4]]\n",
            "\n",
            " [[ 5  6]\n",
            "  [ 7  8]]\n",
            "\n",
            " [[ 9 10]\n",
            "  [11 12]]]\n",
            "(3, 2, 2)\n",
            "Train Data:  [[11 22 33]\n",
            " [44 55 66]]\n",
            " Test Data:  [[77 88 99]]\n"
          ]
        }
      ]
    },
    {
      "cell_type": "code",
      "source": [
        "#Pandas\n",
        "import pandas as pd\n",
        "dict = {\"country\": [\"Brazil\", \"Russia\", \"India\"],\n",
        "\"capital\": [\"Brasilia\", \"Moscow\", \"New Dehli\"],\n",
        "\"area\": [8.516, 17.10, 3.286],\n",
        "\"population\":[200.4, 143.5, 1252] }\n",
        "\n",
        "df = pd.DataFrame(dict)\n",
        "print(df)"
      ],
      "metadata": {
        "colab": {
          "base_uri": "https://localhost:8080/"
        },
        "id": "VnX4ItfqBqqZ",
        "outputId": "c5a32e89-d96d-4c97-be9e-a755a5e6634e"
      },
      "execution_count": null,
      "outputs": [
        {
          "output_type": "stream",
          "name": "stdout",
          "text": [
            "  country    capital    area  population\n",
            "0  Brazil   Brasilia   8.516       200.4\n",
            "1  Russia     Moscow  17.100       143.5\n",
            "2   India  New Dehli   3.286      1252.0\n"
          ]
        }
      ]
    },
    {
      "cell_type": "code",
      "source": [
        "# Direct Storing values such as Date, Time Worked,and Money Earned in a DataFrame\n",
        "# Creating a data frame df.\n",
        "df = pd.DataFrame({'Date':['11/05/19','12/05/19', '19/05/19', '25/05/19', '26/05/19','1/06/19'],\n",
        "'Time Worked': [3, 3, 4, 3, 3, 4],\n",
        "'Money Earned': [33.94, 33.94, 46, 33.94,33.94, 46]})\n",
        "\n",
        "#Displaying only top 5 records\n",
        "df.head()\n"
      ],
      "metadata": {
        "colab": {
          "base_uri": "https://localhost:8080/",
          "height": 206
        },
        "id": "gmt7C8SzCCR4",
        "outputId": "2a187c7c-dd88-49cf-f8e7-c0175a5f25e0"
      },
      "execution_count": null,
      "outputs": [
        {
          "output_type": "execute_result",
          "data": {
            "text/plain": [
              "       Date  Time Worked  Money Earned\n",
              "0  11/05/19            3         33.94\n",
              "1  12/05/19            3         33.94\n",
              "2  19/05/19            4         46.00\n",
              "3  25/05/19            3         33.94\n",
              "4  26/05/19            3         33.94"
            ],
            "text/html": [
              "\n",
              "  <div id=\"df-4229a719-71e3-4de6-a1a0-1e3833724fe9\">\n",
              "    <div class=\"colab-df-container\">\n",
              "      <div>\n",
              "<style scoped>\n",
              "    .dataframe tbody tr th:only-of-type {\n",
              "        vertical-align: middle;\n",
              "    }\n",
              "\n",
              "    .dataframe tbody tr th {\n",
              "        vertical-align: top;\n",
              "    }\n",
              "\n",
              "    .dataframe thead th {\n",
              "        text-align: right;\n",
              "    }\n",
              "</style>\n",
              "<table border=\"1\" class=\"dataframe\">\n",
              "  <thead>\n",
              "    <tr style=\"text-align: right;\">\n",
              "      <th></th>\n",
              "      <th>Date</th>\n",
              "      <th>Time Worked</th>\n",
              "      <th>Money Earned</th>\n",
              "    </tr>\n",
              "  </thead>\n",
              "  <tbody>\n",
              "    <tr>\n",
              "      <th>0</th>\n",
              "      <td>11/05/19</td>\n",
              "      <td>3</td>\n",
              "      <td>33.94</td>\n",
              "    </tr>\n",
              "    <tr>\n",
              "      <th>1</th>\n",
              "      <td>12/05/19</td>\n",
              "      <td>3</td>\n",
              "      <td>33.94</td>\n",
              "    </tr>\n",
              "    <tr>\n",
              "      <th>2</th>\n",
              "      <td>19/05/19</td>\n",
              "      <td>4</td>\n",
              "      <td>46.00</td>\n",
              "    </tr>\n",
              "    <tr>\n",
              "      <th>3</th>\n",
              "      <td>25/05/19</td>\n",
              "      <td>3</td>\n",
              "      <td>33.94</td>\n",
              "    </tr>\n",
              "    <tr>\n",
              "      <th>4</th>\n",
              "      <td>26/05/19</td>\n",
              "      <td>3</td>\n",
              "      <td>33.94</td>\n",
              "    </tr>\n",
              "  </tbody>\n",
              "</table>\n",
              "</div>\n",
              "      <button class=\"colab-df-convert\" onclick=\"convertToInteractive('df-4229a719-71e3-4de6-a1a0-1e3833724fe9')\"\n",
              "              title=\"Convert this dataframe to an interactive table.\"\n",
              "              style=\"display:none;\">\n",
              "        \n",
              "  <svg xmlns=\"http://www.w3.org/2000/svg\" height=\"24px\"viewBox=\"0 0 24 24\"\n",
              "       width=\"24px\">\n",
              "    <path d=\"M0 0h24v24H0V0z\" fill=\"none\"/>\n",
              "    <path d=\"M18.56 5.44l.94 2.06.94-2.06 2.06-.94-2.06-.94-.94-2.06-.94 2.06-2.06.94zm-11 1L8.5 8.5l.94-2.06 2.06-.94-2.06-.94L8.5 2.5l-.94 2.06-2.06.94zm10 10l.94 2.06.94-2.06 2.06-.94-2.06-.94-.94-2.06-.94 2.06-2.06.94z\"/><path d=\"M17.41 7.96l-1.37-1.37c-.4-.4-.92-.59-1.43-.59-.52 0-1.04.2-1.43.59L10.3 9.45l-7.72 7.72c-.78.78-.78 2.05 0 2.83L4 21.41c.39.39.9.59 1.41.59.51 0 1.02-.2 1.41-.59l7.78-7.78 2.81-2.81c.8-.78.8-2.07 0-2.86zM5.41 20L4 18.59l7.72-7.72 1.47 1.35L5.41 20z\"/>\n",
              "  </svg>\n",
              "      </button>\n",
              "      \n",
              "  <style>\n",
              "    .colab-df-container {\n",
              "      display:flex;\n",
              "      flex-wrap:wrap;\n",
              "      gap: 12px;\n",
              "    }\n",
              "\n",
              "    .colab-df-convert {\n",
              "      background-color: #E8F0FE;\n",
              "      border: none;\n",
              "      border-radius: 50%;\n",
              "      cursor: pointer;\n",
              "      display: none;\n",
              "      fill: #1967D2;\n",
              "      height: 32px;\n",
              "      padding: 0 0 0 0;\n",
              "      width: 32px;\n",
              "    }\n",
              "\n",
              "    .colab-df-convert:hover {\n",
              "      background-color: #E2EBFA;\n",
              "      box-shadow: 0px 1px 2px rgba(60, 64, 67, 0.3), 0px 1px 3px 1px rgba(60, 64, 67, 0.15);\n",
              "      fill: #174EA6;\n",
              "    }\n",
              "\n",
              "    [theme=dark] .colab-df-convert {\n",
              "      background-color: #3B4455;\n",
              "      fill: #D2E3FC;\n",
              "    }\n",
              "\n",
              "    [theme=dark] .colab-df-convert:hover {\n",
              "      background-color: #434B5C;\n",
              "      box-shadow: 0px 1px 3px 1px rgba(0, 0, 0, 0.15);\n",
              "      filter: drop-shadow(0px 1px 2px rgba(0, 0, 0, 0.3));\n",
              "      fill: #FFFFFF;\n",
              "    }\n",
              "  </style>\n",
              "\n",
              "      <script>\n",
              "        const buttonEl =\n",
              "          document.querySelector('#df-4229a719-71e3-4de6-a1a0-1e3833724fe9 button.colab-df-convert');\n",
              "        buttonEl.style.display =\n",
              "          google.colab.kernel.accessAllowed ? 'block' : 'none';\n",
              "\n",
              "        async function convertToInteractive(key) {\n",
              "          const element = document.querySelector('#df-4229a719-71e3-4de6-a1a0-1e3833724fe9');\n",
              "          const dataTable =\n",
              "            await google.colab.kernel.invokeFunction('convertToInteractive',\n",
              "                                                     [key], {});\n",
              "          if (!dataTable) return;\n",
              "\n",
              "          const docLinkHtml = 'Like what you see? Visit the ' +\n",
              "            '<a target=\"_blank\" href=https://colab.research.google.com/notebooks/data_table.ipynb>data table notebook</a>'\n",
              "            + ' to learn more about interactive tables.';\n",
              "          element.innerHTML = '';\n",
              "          dataTable['output_type'] = 'display_data';\n",
              "          await google.colab.output.renderOutput(dataTable, element);\n",
              "          const docLink = document.createElement('div');\n",
              "          docLink.innerHTML = docLinkHtml;\n",
              "          element.appendChild(docLink);\n",
              "        }\n",
              "      </script>\n",
              "    </div>\n",
              "  </div>\n",
              "  "
            ]
          },
          "metadata": {},
          "execution_count": 19
        }
      ]
    }
  ],
  "metadata": {
    "colab": {
      "collapsed_sections": [],
      "provenance": [],
      "mount_file_id": "19AX7NLppNPvtZRzMmYO6ibUoOEhP50e5",
      "authorship_tag": "ABX9TyNt0lcbXeP/4FU3sGisR9sg",
      "include_colab_link": true
    },
    "kernelspec": {
      "display_name": "Python 3",
      "name": "python3"
    },
    "language_info": {
      "name": "python"
    }
  },
  "nbformat": 4,
  "nbformat_minor": 0
}