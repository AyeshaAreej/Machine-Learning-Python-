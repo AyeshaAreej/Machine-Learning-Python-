{
  "nbformat": 4,
  "nbformat_minor": 0,
  "metadata": {
    "colab": {
      "provenance": [],
      "authorship_tag": "ABX9TyPPLvHc/SnnDSoc0BDCBcxm",
      "include_colab_link": true
    },
    "kernelspec": {
      "name": "python3",
      "display_name": "Python 3"
    },
    "language_info": {
      "name": "python"
    }
  },
  "cells": [
    {
      "cell_type": "markdown",
      "metadata": {
        "id": "view-in-github",
        "colab_type": "text"
      },
      "source": [
        "<a href=\"https://colab.research.google.com/github/AyeshaAreej/Python-Practice-Course/blob/main/Assignments.ipynb\" target=\"_parent\"><img src=\"https://colab.research.google.com/assets/colab-badge.svg\" alt=\"Open In Colab\"/></a>"
      ]
    },
    {
      "cell_type": "code",
      "execution_count": 8,
      "metadata": {
        "colab": {
          "base_uri": "https://localhost:8080/"
        },
        "id": "FmI6i6_PbdyE",
        "outputId": "47fc3a12-5ba0-4bfc-af46-aa751d38f33c"
      },
      "outputs": [
        {
          "output_type": "stream",
          "name": "stdout",
          "text": [
            "     Name Gender  age\n",
            "0  Ayesha      F   23\n",
            "1   Maham      F    8\n",
            "2     Ali      M   15\n",
            "3   Kiran      F   24\n",
            "4  Khizar      M    3\n",
            "5    Hina      F   34\n",
            "6    John      M   12\n",
            "7  Ilyana      F   40\n",
            "8    Zain      M    6\n"
          ]
        }
      ],
      "source": [
        "#Data Assignement\n",
        "import pandas as pd \n",
        "mydataset={\n",
        "    'Name':[\"Ayesha\",\"Maham\",\"Ali\",\"Kiran\",\"Khizar\",\"Hina\",\"John\",\"Ilyana\",\"Zain\"],\n",
        "    'Gender':['F','F','M','F','M','F','M','F','M'],\n",
        "    'age':[23,8,15,24,3,34,12,40,6]\n",
        "}\n",
        "\n",
        "df=pd.DataFrame(mydataset)\n",
        "print(df)\n",
        "\n"
      ]
    },
    {
      "cell_type": "code",
      "source": [
        "df.head()"
      ],
      "metadata": {
        "colab": {
          "base_uri": "https://localhost:8080/",
          "height": 206
        },
        "id": "gSdosYdNbj_a",
        "outputId": "28a050bb-e149-474a-b904-7a7f5d6ff415"
      },
      "execution_count": 9,
      "outputs": [
        {
          "output_type": "execute_result",
          "data": {
            "text/plain": [
              "     Name Gender  age\n",
              "0  Ayesha      F   23\n",
              "1   Maham      F    8\n",
              "2     Ali      M   15\n",
              "3   Kiran      F   24\n",
              "4  Khizar      M    3"
            ],
            "text/html": [
              "\n",
              "  <div id=\"df-66444757-8ec7-40b8-a41d-f2beb37f8063\">\n",
              "    <div class=\"colab-df-container\">\n",
              "      <div>\n",
              "<style scoped>\n",
              "    .dataframe tbody tr th:only-of-type {\n",
              "        vertical-align: middle;\n",
              "    }\n",
              "\n",
              "    .dataframe tbody tr th {\n",
              "        vertical-align: top;\n",
              "    }\n",
              "\n",
              "    .dataframe thead th {\n",
              "        text-align: right;\n",
              "    }\n",
              "</style>\n",
              "<table border=\"1\" class=\"dataframe\">\n",
              "  <thead>\n",
              "    <tr style=\"text-align: right;\">\n",
              "      <th></th>\n",
              "      <th>Name</th>\n",
              "      <th>Gender</th>\n",
              "      <th>age</th>\n",
              "    </tr>\n",
              "  </thead>\n",
              "  <tbody>\n",
              "    <tr>\n",
              "      <th>0</th>\n",
              "      <td>Ayesha</td>\n",
              "      <td>F</td>\n",
              "      <td>23</td>\n",
              "    </tr>\n",
              "    <tr>\n",
              "      <th>1</th>\n",
              "      <td>Maham</td>\n",
              "      <td>F</td>\n",
              "      <td>8</td>\n",
              "    </tr>\n",
              "    <tr>\n",
              "      <th>2</th>\n",
              "      <td>Ali</td>\n",
              "      <td>M</td>\n",
              "      <td>15</td>\n",
              "    </tr>\n",
              "    <tr>\n",
              "      <th>3</th>\n",
              "      <td>Kiran</td>\n",
              "      <td>F</td>\n",
              "      <td>24</td>\n",
              "    </tr>\n",
              "    <tr>\n",
              "      <th>4</th>\n",
              "      <td>Khizar</td>\n",
              "      <td>M</td>\n",
              "      <td>3</td>\n",
              "    </tr>\n",
              "  </tbody>\n",
              "</table>\n",
              "</div>\n",
              "      <button class=\"colab-df-convert\" onclick=\"convertToInteractive('df-66444757-8ec7-40b8-a41d-f2beb37f8063')\"\n",
              "              title=\"Convert this dataframe to an interactive table.\"\n",
              "              style=\"display:none;\">\n",
              "        \n",
              "  <svg xmlns=\"http://www.w3.org/2000/svg\" height=\"24px\"viewBox=\"0 0 24 24\"\n",
              "       width=\"24px\">\n",
              "    <path d=\"M0 0h24v24H0V0z\" fill=\"none\"/>\n",
              "    <path d=\"M18.56 5.44l.94 2.06.94-2.06 2.06-.94-2.06-.94-.94-2.06-.94 2.06-2.06.94zm-11 1L8.5 8.5l.94-2.06 2.06-.94-2.06-.94L8.5 2.5l-.94 2.06-2.06.94zm10 10l.94 2.06.94-2.06 2.06-.94-2.06-.94-.94-2.06-.94 2.06-2.06.94z\"/><path d=\"M17.41 7.96l-1.37-1.37c-.4-.4-.92-.59-1.43-.59-.52 0-1.04.2-1.43.59L10.3 9.45l-7.72 7.72c-.78.78-.78 2.05 0 2.83L4 21.41c.39.39.9.59 1.41.59.51 0 1.02-.2 1.41-.59l7.78-7.78 2.81-2.81c.8-.78.8-2.07 0-2.86zM5.41 20L4 18.59l7.72-7.72 1.47 1.35L5.41 20z\"/>\n",
              "  </svg>\n",
              "      </button>\n",
              "      \n",
              "  <style>\n",
              "    .colab-df-container {\n",
              "      display:flex;\n",
              "      flex-wrap:wrap;\n",
              "      gap: 12px;\n",
              "    }\n",
              "\n",
              "    .colab-df-convert {\n",
              "      background-color: #E8F0FE;\n",
              "      border: none;\n",
              "      border-radius: 50%;\n",
              "      cursor: pointer;\n",
              "      display: none;\n",
              "      fill: #1967D2;\n",
              "      height: 32px;\n",
              "      padding: 0 0 0 0;\n",
              "      width: 32px;\n",
              "    }\n",
              "\n",
              "    .colab-df-convert:hover {\n",
              "      background-color: #E2EBFA;\n",
              "      box-shadow: 0px 1px 2px rgba(60, 64, 67, 0.3), 0px 1px 3px 1px rgba(60, 64, 67, 0.15);\n",
              "      fill: #174EA6;\n",
              "    }\n",
              "\n",
              "    [theme=dark] .colab-df-convert {\n",
              "      background-color: #3B4455;\n",
              "      fill: #D2E3FC;\n",
              "    }\n",
              "\n",
              "    [theme=dark] .colab-df-convert:hover {\n",
              "      background-color: #434B5C;\n",
              "      box-shadow: 0px 1px 3px 1px rgba(0, 0, 0, 0.15);\n",
              "      filter: drop-shadow(0px 1px 2px rgba(0, 0, 0, 0.3));\n",
              "      fill: #FFFFFF;\n",
              "    }\n",
              "  </style>\n",
              "\n",
              "      <script>\n",
              "        const buttonEl =\n",
              "          document.querySelector('#df-66444757-8ec7-40b8-a41d-f2beb37f8063 button.colab-df-convert');\n",
              "        buttonEl.style.display =\n",
              "          google.colab.kernel.accessAllowed ? 'block' : 'none';\n",
              "\n",
              "        async function convertToInteractive(key) {\n",
              "          const element = document.querySelector('#df-66444757-8ec7-40b8-a41d-f2beb37f8063');\n",
              "          const dataTable =\n",
              "            await google.colab.kernel.invokeFunction('convertToInteractive',\n",
              "                                                     [key], {});\n",
              "          if (!dataTable) return;\n",
              "\n",
              "          const docLinkHtml = 'Like what you see? Visit the ' +\n",
              "            '<a target=\"_blank\" href=https://colab.research.google.com/notebooks/data_table.ipynb>data table notebook</a>'\n",
              "            + ' to learn more about interactive tables.';\n",
              "          element.innerHTML = '';\n",
              "          dataTable['output_type'] = 'display_data';\n",
              "          await google.colab.output.renderOutput(dataTable, element);\n",
              "          const docLink = document.createElement('div');\n",
              "          docLink.innerHTML = docLinkHtml;\n",
              "          element.appendChild(docLink);\n",
              "        }\n",
              "      </script>\n",
              "    </div>\n",
              "  </div>\n",
              "  "
            ]
          },
          "metadata": {},
          "execution_count": 9
        }
      ]
    },
    {
      "cell_type": "code",
      "source": [
        "print(df.info())"
      ],
      "metadata": {
        "colab": {
          "base_uri": "https://localhost:8080/"
        },
        "id": "rHw9Xvq8bnIu",
        "outputId": "ad65bc7f-bfd6-4c77-8d12-1f2c692b945b"
      },
      "execution_count": 10,
      "outputs": [
        {
          "output_type": "stream",
          "name": "stdout",
          "text": [
            "<class 'pandas.core.frame.DataFrame'>\n",
            "RangeIndex: 9 entries, 0 to 8\n",
            "Data columns (total 3 columns):\n",
            " #   Column  Non-Null Count  Dtype \n",
            "---  ------  --------------  ----- \n",
            " 0   Name    9 non-null      object\n",
            " 1   Gender  9 non-null      object\n",
            " 2   age     9 non-null      int64 \n",
            "dtypes: int64(1), object(2)\n",
            "memory usage: 344.0+ bytes\n",
            "None\n"
          ]
        }
      ]
    },
    {
      "cell_type": "code",
      "source": [
        "#Part 1 \n",
        "#Classifing gender data, class 1 for Mail and class 0 for female \n",
        "for x in df.index:\n",
        "  if df.loc[x,\"Gender\"]=='M':\n",
        "     df.loc[x,\"Gender\"]='1'\n",
        "  elif df.loc[x,\"Gender\"]=='F':\n",
        "       df.loc[x,\"Gender\"]='0'\n",
        "  else:\n",
        "    df.loc[x,\"Gender\"]=' '\n",
        "\n",
        "print(df)\n",
        " "
      ],
      "metadata": {
        "colab": {
          "base_uri": "https://localhost:8080/"
        },
        "id": "7ZOmOglkbqPP",
        "outputId": "6373079d-e700-42c4-f32a-3d0932b7a76b"
      },
      "execution_count": 11,
      "outputs": [
        {
          "output_type": "stream",
          "name": "stdout",
          "text": [
            "     Name Gender  age\n",
            "0  Ayesha      0   23\n",
            "1   Maham      0    8\n",
            "2     Ali      1   15\n",
            "3   Kiran      0   24\n",
            "4  Khizar      1    3\n",
            "5    Hina      0   34\n",
            "6    John      1   12\n",
            "7  Ilyana      0   40\n",
            "8    Zain      1    6\n"
          ]
        }
      ]
    },
    {
      "cell_type": "code",
      "source": [
        "#Adding new column named as class having values 1 if age is greater than 30 otherwise 0\n",
        "newCol = []\n",
        "for x in df.index:\n",
        "  if df.loc[x,\"age\"]>30:\n",
        "    newCol.append(1)\n",
        "  else:\n",
        "    newCol.append(0)\n",
        "df['Class'] = newCol\n",
        "\n",
        "print(df)"
      ],
      "metadata": {
        "colab": {
          "base_uri": "https://localhost:8080/"
        },
        "id": "OqTqKXs2bvJG",
        "outputId": "dfb73c28-da1c-44e7-9572-f06b22e3fbf1"
      },
      "execution_count": 12,
      "outputs": [
        {
          "output_type": "stream",
          "name": "stdout",
          "text": [
            "     Name Gender  age  Class\n",
            "0  Ayesha      0   23      0\n",
            "1   Maham      0    8      0\n",
            "2     Ali      1   15      0\n",
            "3   Kiran      0   24      0\n",
            "4  Khizar      1    3      0\n",
            "5    Hina      0   34      1\n",
            "6    John      1   12      0\n",
            "7  Ilyana      0   40      1\n",
            "8    Zain      1    6      0\n"
          ]
        }
      ]
    },
    {
      "cell_type": "code",
      "source": [
        "#Dividing age group in 0, 1 and 2 class based on specified range\n",
        "for x in df.index:\n",
        "  if df.loc[x,\"age\"]<10:\n",
        "     df.loc[x,\"age\"]=0\n",
        "  elif df.loc[x,\"age\"]<30:\n",
        "       df.loc[x,\"age\"]=1\n",
        "  else:\n",
        "    df.loc[x,\"age\"]=2\n",
        "\n",
        "print(df)\n",
        " \n"
      ],
      "metadata": {
        "colab": {
          "base_uri": "https://localhost:8080/"
        },
        "id": "9u6KL7JsfC8g",
        "outputId": "3bb5faf9-519a-4a81-d83c-9b52d61b29d2"
      },
      "execution_count": 13,
      "outputs": [
        {
          "output_type": "stream",
          "name": "stdout",
          "text": [
            "     Name Gender  age  Class\n",
            "0  Ayesha      0    1      0\n",
            "1   Maham      0    0      0\n",
            "2     Ali      1    1      0\n",
            "3   Kiran      0    1      0\n",
            "4  Khizar      1    0      0\n",
            "5    Hina      0    2      1\n",
            "6    John      1    1      0\n",
            "7  Ilyana      0    2      1\n",
            "8    Zain      1    0      0\n"
          ]
        }
      ]
    }
  ]
}