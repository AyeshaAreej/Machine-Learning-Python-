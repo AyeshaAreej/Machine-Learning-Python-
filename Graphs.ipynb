{
  "nbformat": 4,
  "nbformat_minor": 0,
  "metadata": {
    "colab": {
      "provenance": [],
      "collapsed_sections": [],
      "authorship_tag": "ABX9TyNr0I4Ykve/pLxBMCbrOIbN",
      "include_colab_link": true
    },
    "kernelspec": {
      "name": "python3",
      "display_name": "Python 3"
    },
    "language_info": {
      "name": "python"
    }
  },
  "cells": [
    {
      "cell_type": "markdown",
      "metadata": {
        "id": "view-in-github",
        "colab_type": "text"
      },
      "source": [
        "<a href=\"https://colab.research.google.com/github/AyeshaAreej/Python-Practice-Course/blob/main/Graphs.ipynb\" target=\"_parent\"><img src=\"https://colab.research.google.com/assets/colab-badge.svg\" alt=\"Open In Colab\"/></a>"
      ]
    },
    {
      "cell_type": "code",
      "execution_count": null,
      "metadata": {
        "id": "bs7kdDMIjY7C"
      },
      "outputs": [],
      "source": [
        "import matplotlib.pyplot as plt\n",
        "import numpy as np\n",
        "import pandas as pd "
      ]
    },
    {
      "cell_type": "code",
      "source": [
        "x=[5,2,9,4,7]\n",
        "y=[10,5,8,4,2]"
      ],
      "metadata": {
        "id": "eVCn91MZjiWc"
      },
      "execution_count": null,
      "outputs": []
    },
    {
      "cell_type": "markdown",
      "source": [
        "**Bar Plot**-> Used to compare values or to understand distribution of data"
      ],
      "metadata": {
        "id": "fITAKzjNkKkg"
      }
    },
    {
      "cell_type": "code",
      "source": [
        "plt.bar(x,y)\n",
        "plt.axis([0,10,0,10])\n",
        "plt.xlabel(\"X-asis\")\n",
        "plt.ylabel(\"Y-axis\")\n",
        "plt.show()"
      ],
      "metadata": {
        "colab": {
          "base_uri": "https://localhost:8080/",
          "height": 283
        },
        "id": "B_PPFIYqjv4z",
        "outputId": "8576cb8c-131f-42ac-a176-b3f99baeae51"
      },
      "execution_count": null,
      "outputs": [
        {
          "output_type": "display_data",
          "data": {
            "text/plain": [
              "<Figure size 432x288 with 1 Axes>"
            ],
            "image/png": "[encoded data removed]"
          },
          "metadata": {
            "needs_background": "light"
          }
        }
      ]
    },
    {
      "cell_type": "markdown",
      "source": [
        "**Sacatter Chart** -> Used to compare values or to understand distribution of data"
      ],
      "metadata": {
        "id": "IUKF7ii2kREZ"
      }
    },
    {
      "cell_type": "code",
      "source": [
        "#create 2D array of table given above\n",
        "data = [['E001', 'M', 34, 123, 'Normal', 350],\n",
        "        ['E002', 'F', 40, 114, 'Overweight', 450],\n",
        "        ['E003', 'F', 37, 135, 'Obesity', 169],\n",
        "        ['E004', 'M', 30, 139, 'Underweight', 189],\n",
        "        ['E005', 'F', 44, 117, 'Underweight', 183],\n",
        "        ['E006', 'M', 36, 121, 'Normal', 80],\n",
        "        ['E007', 'M', 32, 133, 'Obesity', 166],\n",
        "        ['E008', 'F', 26, 140, 'Normal', 120],\n",
        "        ['E009', 'M', 32, 133, 'Normal', 75],\n",
        "        ['E010', 'M', 36, 133, 'Underweight', 40] ]\n",
        "\n",
        "# dataframe created with\n",
        "# the above data array\n",
        "df = pd.DataFrame(data, columns = ['EMPID', 'Gender', \n",
        "                                    'Age', 'Sales',\n",
        "                                    'BMI', 'Income'] )\n",
        "df.head()"
      ],
      "metadata": {
        "id": "g0d9X_RHkWpA",
        "colab": {
          "base_uri": "https://localhost:8080/",
          "height": 206
        },
        "outputId": "ccd09e16-bd0f-45a9-f35a-07c700a482d4"
      },
      "execution_count": 9,
      "outputs": [
        {
          "output_type": "execute_result",
          "data": {
            "text/plain": [
              "  EMPID Gender  Age  Sales          BMI  Income\n",
              "0  E001      M   34    123       Normal     350\n",
              "1  E002      F   40    114   Overweight     450\n",
              "2  E003      F   37    135      Obesity     169\n",
              "3  E004      M   30    139  Underweight     189\n",
              "4  E005      F   44    117  Underweight     183"
            ],
            "text/html": [
              "\n",
              "  <div id=\"df-5392798b-178f-42b7-99e4-5fd35ab1b7b3\">\n",
              "    <div class=\"colab-df-container\">\n",
              "      <div>\n",
              "<style scoped>\n",
              "    .dataframe tbody tr th:only-of-type {\n",
              "        vertical-align: middle;\n",
              "    }\n",
              "\n",
              "    .dataframe tbody tr th {\n",
              "        vertical-align: top;\n",
              "    }\n",
              "\n",
              "    .dataframe thead th {\n",
              "        text-align: right;\n",
              "    }\n",
              "</style>\n",
              "<table border=\"1\" class=\"dataframe\">\n",
              "  <thead>\n",
              "    <tr style=\"text-align: right;\">\n",
              "      <th></th>\n",
              "      <th>EMPID</th>\n",
              "      <th>Gender</th>\n",
              "      <th>Age</th>\n",
              "      <th>Sales</th>\n",
              "      <th>BMI</th>\n",
              "      <th>Income</th>\n",
              "    </tr>\n",
              "  </thead>\n",
              "  <tbody>\n",
              "    <tr>\n",
              "      <th>0</th>\n",
              "      <td>E001</td>\n",
              "      <td>M</td>\n",
              "      <td>34</td>\n",
              "      <td>123</td>\n",
              "      <td>Normal</td>\n",
              "      <td>350</td>\n",
              "    </tr>\n",
              "    <tr>\n",
              "      <th>1</th>\n",
              "      <td>E002</td>\n",
              "      <td>F</td>\n",
              "      <td>40</td>\n",
              "      <td>114</td>\n",
              "      <td>Overweight</td>\n",
              "      <td>450</td>\n",
              "    </tr>\n",
              "    <tr>\n",
              "      <th>2</th>\n",
              "      <td>E003</td>\n",
              "      <td>F</td>\n",
              "      <td>37</td>\n",
              "      <td>135</td>\n",
              "      <td>Obesity</td>\n",
              "      <td>169</td>\n",
              "    </tr>\n",
              "    <tr>\n",
              "      <th>3</th>\n",
              "      <td>E004</td>\n",
              "      <td>M</td>\n",
              "      <td>30</td>\n",
              "      <td>139</td>\n",
              "      <td>Underweight</td>\n",
              "      <td>189</td>\n",
              "    </tr>\n",
              "    <tr>\n",
              "      <th>4</th>\n",
              "      <td>E005</td>\n",
              "      <td>F</td>\n",
              "      <td>44</td>\n",
              "      <td>117</td>\n",
              "      <td>Underweight</td>\n",
              "      <td>183</td>\n",
              "    </tr>\n",
              "  </tbody>\n",
              "</table>\n",
              "</div>\n",
              "      <button class=\"colab-df-convert\" onclick=\"convertToInteractive('df-5392798b-178f-42b7-99e4-5fd35ab1b7b3')\"\n",
              "              title=\"Convert this dataframe to an interactive table.\"\n",
              "              style=\"display:none;\">\n",
              "        \n",
              "  <svg xmlns=\"http://www.w3.org/2000/svg\" height=\"24px\"viewBox=\"0 0 24 24\"\n",
              "       width=\"24px\">\n",
              "    <path d=\"M0 0h24v24H0V0z\" fill=\"none\"/>\n",
              "    <path d=\"M18.56 5.44l.94 2.06.94-2.06 2.06-.94-2.06-.94-.94-2.06-.94 2.06-2.06.94zm-11 1L8.5 8.5l.94-2.06 2.06-.94-2.06-.94L8.5 2.5l-.94 2.06-2.06.94zm10 10l.94 2.06.94-2.06 2.06-.94-2.06-.94-.94-2.06-.94 2.06-2.06.94z\"/><path d=\"M17.41 7.96l-1.37-1.37c-.4-.4-.92-.59-1.43-.59-.52 0-1.04.2-1.43.59L10.3 9.45l-7.72 7.72c-.78.78-.78 2.05 0 2.83L4 21.41c.39.39.9.59 1.41.59.51 0 1.02-.2 1.41-.59l7.78-7.78 2.81-2.81c.8-.78.8-2.07 0-2.86zM5.41 20L4 18.59l7.72-7.72 1.47 1.35L5.41 20z\"/>\n",
              "  </svg>\n",
              "      </button>\n",
              "      \n",
              "  <style>\n",
              "    .colab-df-container {\n",
              "      display:flex;\n",
              "      flex-wrap:wrap;\n",
              "      gap: 12px;\n",
              "    }\n",
              "\n",
              "    .colab-df-convert {\n",
              "      background-color: #E8F0FE;\n",
              "      border: none;\n",
              "      border-radius: 50%;\n",
              "      cursor: pointer;\n",
              "      display: none;\n",
              "      fill: #1967D2;\n",
              "      height: 32px;\n",
              "      padding: 0 0 0 0;\n",
              "      width: 32px;\n",
              "    }\n",
              "\n",
              "    .colab-df-convert:hover {\n",
              "      background-color: #E2EBFA;\n",
              "      box-shadow: 0px 1px 2px rgba(60, 64, 67, 0.3), 0px 1px 3px 1px rgba(60, 64, 67, 0.15);\n",
              "      fill: #174EA6;\n",
              "    }\n",
              "\n",
              "    [theme=dark] .colab-df-convert {\n",
              "      background-color: #3B4455;\n",
              "      fill: #D2E3FC;\n",
              "    }\n",
              "\n",
              "    [theme=dark] .colab-df-convert:hover {\n",
              "      background-color: #434B5C;\n",
              "      box-shadow: 0px 1px 3px 1px rgba(0, 0, 0, 0.15);\n",
              "      filter: drop-shadow(0px 1px 2px rgba(0, 0, 0, 0.3));\n",
              "      fill: #FFFFFF;\n",
              "    }\n",
              "  </style>\n",
              "\n",
              "      <script>\n",
              "        const buttonEl =\n",
              "          document.querySelector('#df-5392798b-178f-42b7-99e4-5fd35ab1b7b3 button.colab-df-convert');\n",
              "        buttonEl.style.display =\n",
              "          google.colab.kernel.accessAllowed ? 'block' : 'none';\n",
              "\n",
              "        async function convertToInteractive(key) {\n",
              "          const element = document.querySelector('#df-5392798b-178f-42b7-99e4-5fd35ab1b7b3');\n",
              "          const dataTable =\n",
              "            await google.colab.kernel.invokeFunction('convertToInteractive',\n",
              "                                                     [key], {});\n",
              "          if (!dataTable) return;\n",
              "\n",
              "          const docLinkHtml = 'Like what you see? Visit the ' +\n",
              "            '<a target=\"_blank\" href=https://colab.research.google.com/notebooks/data_table.ipynb>data table notebook</a>'\n",
              "            + ' to learn more about interactive tables.';\n",
              "          element.innerHTML = '';\n",
              "          dataTable['output_type'] = 'display_data';\n",
              "          await google.colab.output.renderOutput(dataTable, element);\n",
              "          const docLink = document.createElement('div');\n",
              "          docLink.innerHTML = docLinkHtml;\n",
              "          element.appendChild(docLink);\n",
              "        }\n",
              "      </script>\n",
              "    </div>\n",
              "  </div>\n",
              "  "
            ]
          },
          "metadata": {},
          "execution_count": 9
        }
      ]
    },
    {
      "cell_type": "code",
      "source": [
        "plt.scatter(df.Age, df.Sales, marker='*', color='Blue')\n",
        "plt.axis([20,50,100,150])\n",
        "plt.title('Age Versus Sales')\n",
        "plt.xlabel(\"Age\")\n",
        "plt.ylabel(\"Sales\")\n",
        "plt.savefig('SalesAgeScatterPlot.png')\n",
        "plt.show()"
      ],
      "metadata": {
        "colab": {
          "base_uri": "https://localhost:8080/",
          "height": 295
        },
        "id": "nS9NRg4pm5v5",
        "outputId": "87318ac3-424c-4d6f-b952-a5091c620aef"
      },
      "execution_count": 12,
      "outputs": [
        {
          "output_type": "display_data",
          "data": {
            "text/plain": [
              "<Figure size 432x288 with 1 Axes>"
            ],
            "image/png": "[encoded data removed]"
          },
          "metadata": {
            "needs_background": "light"
          }
        }
      ]
    },
    {
      "cell_type": "markdown",
      "source": [
        "**Working with Subplots**"
      ],
      "metadata": {
        "id": "BRBM-eadoFZx"
      }
    },
    {
      "cell_type": "code",
      "source": [
        "x=np.arange(1,11)\n",
        "fig,axis=plt.subplots (2,2, figsize=(10,10))\n",
        "axis[0][0].plot(x,x*x)\n",
        "axis[0][0].set_title('Square')\n",
        "\n",
        "axis[0][1].plot(x,np.sqrt(x))\n",
        "axis[0][1].set_title('Square Root')\n",
        "\n",
        "axis[1][0].plot(x,np.exp(x))\n",
        "axis[1][0].set_title('Exponential')\n",
        "\n",
        "axis[1][1].plot(x,np.log10(x))\n",
        "axis[1][1].set_title('Logarithm')\n",
        "\n"
      ],
      "metadata": {
        "colab": {
          "base_uri": "https://localhost:8080/",
          "height": 624
        },
        "id": "N8GqjaNCoRjw",
        "outputId": "d5fa54d4-5987-4d95-8ddc-55e191d81f83"
      },
      "execution_count": 14,
      "outputs": [
        {
          "output_type": "execute_result",
          "data": {
            "text/plain": [
              "Text(0.5, 1.0, 'Logarithm')"
            ]
          },
          "metadata": {},
          "execution_count": 14
        },
        {
          "output_type": "display_data",
          "data": {
            "text/plain": [
              "<Figure size 720x720 with 4 Axes>"
            ],
            "image/png": "[encoded data removed]"
          },
          "metadata": {
            "needs_background": "light"
          }
        }
      ]
    },
    {
      "cell_type": "markdown",
      "source": [
        "**Bar Subplot Example**"
      ],
      "metadata": {
        "id": "yKRKHto1pZPt"
      }
    },
    {
      "cell_type": "code",
      "source": [
        "fig,axis=plt.subplots()\n",
        "axis.bar(df['Age'],df['Sales'])\n",
        "plt.title(\"Sales and Age Distribution\")\n",
        "plt.xlabel(\"Age\")\n",
        "plt.ylabel(\"Sales\")\n",
        "plt.show()"
      ],
      "metadata": {
        "colab": {
          "base_uri": "https://localhost:8080/",
          "height": 295
        },
        "id": "Q4ZIpcJGpdyu",
        "outputId": "9cceb8f4-ce80-4ec5-e3cf-da3d7c360b83"
      },
      "execution_count": 15,
      "outputs": [
        {
          "output_type": "display_data",
          "data": {
            "text/plain": [
              "<Figure size 432x288 with 1 Axes>"
            ],
            "image/png": "[encoded data removed]"
          },
          "metadata": {
            "needs_background": "light"
          }
        }
      ]
    },
    {
      "cell_type": "markdown",
      "source": [
        "**Pie Chart Using Iris Dataset** -> To compare values and to show composition of something"
      ],
      "metadata": {
        "id": "g55jQGmGqaxG"
      }
    },
    {
      "cell_type": "code",
      "source": [],
      "metadata": {
        "id": "z-r3BL53qqjf"
      },
      "execution_count": null,
      "outputs": []
    }
  ]
}