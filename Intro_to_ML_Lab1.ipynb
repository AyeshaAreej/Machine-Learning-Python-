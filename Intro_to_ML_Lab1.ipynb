{
  "nbformat": 4,
  "nbformat_minor": 0,
  "metadata": {
    "colab": {
      "provenance": [],
      "authorship_tag": "ABX9TyM9kxvPlRqOqIZCizdBMWeB",
      "include_colab_link": true
    },
    "kernelspec": {
      "name": "python3",
      "display_name": "Python 3"
    },
    "language_info": {
      "name": "python"
    }
  },
  "cells": [
    {
      "cell_type": "markdown",
      "metadata": {
        "id": "view-in-github",
        "colab_type": "text"
      },
      "source": [
        "<a href=\"https://colab.research.google.com/github/AyeshaAreej/Machine-Learning-Python-/blob/main/Intro_to_ML_Lab1.ipynb\" target=\"_parent\"><img src=\"https://colab.research.google.com/assets/colab-badge.svg\" alt=\"Open In Colab\"/></a>"
      ]
    },
    {
      "cell_type": "markdown",
      "source": [
        "<!-- Markdown cell -->\n",
        "# Introduction to Machine Learning Lab 1\n",
        "This is the first lab where we will explore the basics of Google Colab and write our first Python\n",
        "code!"
      ],
      "metadata": {
        "id": "ZyM3jTGLsK15"
      }
    },
    {
      "cell_type": "code",
      "execution_count": null,
      "metadata": {
        "id": "lQQZKAZ2r2Mj",
        "colab": {
          "base_uri": "https://localhost:8080/"
        },
        "outputId": "4f6c2878-f9a6-414e-b3a6-3e9932a7d2d7"
      },
      "outputs": [
        {
          "output_type": "stream",
          "name": "stdout",
          "text": [
            "Hello, Machine Learning World!\n"
          ]
        }
      ],
      "source": [
        "#Python Code Cell\n",
        "print(\"Hello, Machine Learning World!\")"
      ]
    },
    {
      "cell_type": "code",
      "source": [
        "#Exploring Colab Interface\n",
        "#printing sum\n",
        "a=5; b=3\n",
        "print(a+b)"
      ],
      "metadata": {
        "colab": {
          "base_uri": "https://localhost:8080/"
        },
        "id": "KM4yBZ4OtWqp",
        "outputId": "00b2ee0e-29b3-4a91-821d-08656d4d398d"
      },
      "execution_count": null,
      "outputs": [
        {
          "output_type": "stream",
          "name": "stdout",
          "text": [
            "8\n"
          ]
        }
      ]
    },
    {
      "cell_type": "code",
      "source": [
        "#Mounting Google Drive With Collab\n",
        "from google.colab import drive\n",
        "drive.mount('/content/drive')"
      ],
      "metadata": {
        "colab": {
          "base_uri": "https://localhost:8080/"
        },
        "id": "uoAMGyj9tuMy",
        "outputId": "de844f30-3143-4331-b049-b619e7162a20"
      },
      "execution_count": null,
      "outputs": [
        {
          "output_type": "stream",
          "name": "stdout",
          "text": [
            "Drive already mounted at /content/drive; to attempt to forcibly remount, call drive.mount(\"/content/drive\", force_remount=True).\n"
          ]
        }
      ]
    },
    {
      "cell_type": "code",
      "source": [
        "#Loading sample_data.csv from drive\n",
        "import pandas as pd\n",
        "#sample example\n",
        "#data = pd.read_csv('/content/drive/MyDrive/datasets/sample_data.csv')\n",
        "#Loading actual csv\n",
        "data = pd.read_csv('/content/sample_data/mnist_test.csv')\n",
        "\n",
        "\n",
        "#writing data to csv\n",
        "!mkdir -p \"/content/drive/MyDrive/datasets\" #creating dataset directory as it gave error if we run below command before creating directory\n",
        "data.to_csv('/content/drive/MyDrive/datasets/output_data.csv')"
      ],
      "metadata": {
        "id": "HSCKvswau5uQ"
      },
      "execution_count": null,
      "outputs": []
    },
    {
      "cell_type": "markdown",
      "source": [
        "#Understanding Numpy\n",
        "\n",
        "NumPy (Numerical\n",
        "Python) — Is the foundation of most ML workflows, providing fast and efficient array\n",
        "computations, vectorized operations, and an overall boost in speed.\n",
        "\n",
        "Example\n",
        "Suppose we have two arrays representing the heights and weights of individuals, and we want to\n",
        "compute their body mass index (BMI). Instead of looping through each element, we can do it all at once\n",
        "with NumPy.\n",
        "\n",
        "Result:This simple vectorized operation will gives us the BMI of all individuals in one go, demonstrating how NumPy\n",
        "makes code both faster and more readable."
      ],
      "metadata": {
        "id": "y1iKnvG_xdV2"
      }
    },
    {
      "cell_type": "code",
      "source": [
        "import numpy as np\n",
        "\n",
        "#initiallizing height and weights are arrays\n",
        "heights = np.array([1.75, 1.80, 1.65]) #in meters\n",
        "weights = np.array([65, 78, 50]) #in kgs\n",
        "\n",
        "bmi = weights / heights ** 2\n",
        "print(bmi)"
      ],
      "metadata": {
        "colab": {
          "base_uri": "https://localhost:8080/"
        },
        "id": "ntARkmB3xgby",
        "outputId": "49aaeeac-156d-4014-af06-9458e463ee01"
      },
      "execution_count": null,
      "outputs": [
        {
          "output_type": "stream",
          "name": "stdout",
          "text": [
            "[21.2244898  24.07407407 18.36547291]\n"
          ]
        }
      ]
    },
    {
      "cell_type": "markdown",
      "source": [
        "#Connection to ML Concepts\n",
        "NumPy's array\n",
        "operations make it an ideal tool for handling the data and computations that drive ML"
      ],
      "metadata": {
        "id": "IuAp5FeIyooo"
      }
    },
    {
      "cell_type": "code",
      "source": [
        "#Data Preprocessing: data needs to be cleaned,transformed and normalized before training ML models\n",
        "#Numpy made these operations easy\n",
        "\n",
        "#1-Normalizing dataset It involves subtracting the mean and dividing by the standard deviation:\n",
        "data= np.array([[4.0, 5.0, 6.0, 8.0, 10.0]])\n",
        "normalized_data = (data - np.mean(data)) / np.std(data)\n",
        "print(\"Normalized data\",normalized_data)\n",
        "\n",
        "\n",
        "#2-Matrix Operations: Most ML models, like linear regression, decision trees, and neural networks, involve matrix multiplication\n",
        "#NumPy handles this operation with ease. Dot product between two matrices (or arrays) can be done in one line:\n",
        "A = np.array([[1, 2], [3, 4]])\n",
        "B = np.array([[5, 6], [7, 8]])\n",
        "result = np.dot(A, B)\n",
        "print(\"Dot product\",result)"
      ],
      "metadata": {
        "colab": {
          "base_uri": "https://localhost:8080/"
        },
        "id": "sijLJ2eZy1BW",
        "outputId": "611d6883-15dd-4e04-ed73-200810268042"
      },
      "execution_count": null,
      "outputs": [
        {
          "output_type": "stream",
          "name": "stdout",
          "text": [
            "Normalized data [[-1.2070197  -0.74278135 -0.27854301  0.64993368  1.57841037]]\n",
            "Dot product [[19 22]\n",
            " [43 50]]\n"
          ]
        }
      ]
    },
    {
      "cell_type": "markdown",
      "source": [
        "#Matrix Operation use in Linear Regression\n",
        "\n",
        "In Linear Regression, you calculate predictions using the equation:\n",
        "\n",
        "**ŷ = X ⋅ β + b**\n",
        "\n",
        "Where, 𝑋 is our data matrix (input features), 𝛽 is the weights (coefficients), 𝑏 is the bias.\n"
      ],
      "metadata": {
        "id": "lystlUoS0W5Y"
      }
    },
    {
      "cell_type": "code",
      "source": [
        "X = np.array([[1,2],[3,4],[5,6]]) #features\n",
        "beta=np.array([0.5,1.5])        #learning parameters\n",
        "b=0.1                           #bias\n",
        "y_pred=np.dot(X,beta)+b         #prediction\n",
        "print(y_pred)"
      ],
      "metadata": {
        "colab": {
          "base_uri": "https://localhost:8080/"
        },
        "id": "72jrjmTE0Wpf",
        "outputId": "89c0c303-a58d-41de-99c8-b2dce720ae9b"
      },
      "execution_count": null,
      "outputs": [
        {
          "output_type": "stream",
          "name": "stdout",
          "text": [
            "[ 3.6  7.6 11.6]\n"
          ]
        }
      ]
    },
    {
      "cell_type": "markdown",
      "source": [
        "#Numpy Arrays"
      ],
      "metadata": {
        "id": "m9nyY0Nw3FF1"
      }
    },
    {
      "cell_type": "code",
      "source": [
        "#3-Key Numpy Concepts\n",
        "\n",
        "#Arrays vs Lists\n",
        "\n",
        "#Lists: Python lists are versatile but not optimized for heavy numerical computations\n",
        "#When adding two lists element-wise, we have to use a loop in Python:\n",
        "\n",
        "list_a=[1,2,3]\n",
        "list_b=[4,5,6]\n",
        "\n",
        "result = [a + b for a, b in zip(list_a, list_b)]\n",
        "print('Two lists sum with python lists',result)\n",
        "\n",
        "\n",
        "#With NumPy, this can be done directly and faster:\n",
        "import numpy as np\n",
        "\n",
        "array_a = np.array([1, 2, 3])\n",
        "array_b = np.array([4, 5, 6])\n",
        "\n",
        "result = array_a + array_b\n",
        "print('Two arrays sum with numpy array',result)"
      ],
      "metadata": {
        "colab": {
          "base_uri": "https://localhost:8080/"
        },
        "id": "0w4BfqKp0SHH",
        "outputId": "5361a205-0dc3-469a-a419-a771045f2294"
      },
      "execution_count": null,
      "outputs": [
        {
          "output_type": "stream",
          "name": "stdout",
          "text": [
            "Two lists sum with python lists [5, 7, 9]\n",
            "Two arrays sum with numpy array [5 7 9]\n"
          ]
        }
      ]
    },
    {
      "cell_type": "code",
      "source": [
        "#Creating Numpy Arrays\n",
        "#Several ways to create numpy arrays\n",
        "\n",
        "#1-From Lists:The simplest way to create an array is by converting a Python list using np.array()\n",
        "np.array([1, 2, 3, 4])\n",
        "\n",
        "\n",
        "#2-Using np.zeros() and np.ones():These functions create arrays filled with zeros or ones, respectively.\n",
        "#This is useful when initializing weights or creating matrices to test algorithms.\n",
        "np.zeros((3,3))  # A 3x3 matrix of zeros\n",
        "np.ones((2, 4))  # A 3x3 matrix of ones\n",
        "\n",
        "print('Zeros Array')\n",
        "print (np.zeros((3,3)))\n",
        "print('Ones Array')\n",
        "print (np.ones((2, 4)))\n",
        "\n",
        "#3-Using np.random():NumPy’s random module allows us to create arrays with random values, which are essential in ML for tasks like initializing neural networks or splitting data.\n",
        "print('Random values Array')\n",
        "np.random.rand(2, 3)  # A 2x3 array of random values between 0 and 1"
      ],
      "metadata": {
        "colab": {
          "base_uri": "https://localhost:8080/"
        },
        "id": "7tai0_FK3KPP",
        "outputId": "8b6db2f5-5483-4276-81c1-5327d6cdb512"
      },
      "execution_count": null,
      "outputs": [
        {
          "output_type": "stream",
          "name": "stdout",
          "text": [
            "Zeros Array\n",
            "[[0. 0. 0.]\n",
            " [0. 0. 0.]\n",
            " [0. 0. 0.]]\n",
            "Ones Array\n",
            "[[1. 1. 1. 1.]\n",
            " [1. 1. 1. 1.]]\n",
            "Random values Array\n"
          ]
        },
        {
          "output_type": "execute_result",
          "data": {
            "text/plain": [
              "array([[0.28238457, 0.31899356, 0.05164483],\n",
              "       [0.83423354, 0.25591828, 0.3509422 ]])"
            ]
          },
          "metadata": {},
          "execution_count": 33
        }
      ]
    },
    {
      "cell_type": "code",
      "source": [
        "#Basic Array Operations\n",
        "\n",
        "#1-One of NumPy’s biggest strengths is its ability to perform operations on arrays without loops. This feature, called element-wise operations, makes the code simpler and faster\n",
        "#Addition, Subtraction, Multiplication - Operations are performed element-wise, which means they are applied to each element of the arrays\n",
        "\n",
        "a=np.array([1,2,3])\n",
        "b=np.array([4,5,6])\n",
        "\n",
        "print('Addition',a+b)\n",
        "print('Subtraction',a-b)\n",
        "print('Multiplication',a*b)\n",
        "\n",
        "#2-Broadcasting :NumPy automatically expands smaller arrays so they can match the dimensions oflarger arrays.\n",
        "#This is particularly useful when performing operations between arrays of different shapes, like adding a constant to each element in an array.\n",
        "\n",
        "a=np.array([[1,2,3],[4,5,6]])\n",
        "b=np.array([1,2,3])\n",
        "print('Broadcasting',a+b)\n",
        "\n",
        "\n",
        "#3-Reshaping Arrays:Reshaping arrays is crucial when dealing with ML datasets. Often, data comes in one shape (like a flat array) and needs to be reshaped to fit into an ML model (like a 2D matrix or 3D tensor).\n",
        "\n",
        "#3.1-Reshaping:We can reshape an array into any shape, as long as the total number of elements stays the same.\n",
        "a=np.array([1,2,3,4,5,6])\n",
        "a_reshaped = a.reshape(2, 3) #(2 rows, 3 columns) Used when feeding data into machine learning models like NN:s, which often expect input data in a specific shape (e.g., 4D tensors in convolutional neural networks\n",
        "print('Reshaping',a_reshaped)\n",
        "\n",
        "#3.2\n",
        "#Flattening: sometimes we need to flatten multi-dimensional arrays back into a singledimensional form for processing\n",
        "a_flat=a_reshaped.flatten()\n",
        "print('Flattening',a_flat)\n"
      ],
      "metadata": {
        "colab": {
          "base_uri": "https://localhost:8080/"
        },
        "id": "lJccR9Gr3Oh_",
        "outputId": "681cb30d-2954-4cc3-da12-84d9b035617c"
      },
      "execution_count": null,
      "outputs": [
        {
          "output_type": "stream",
          "name": "stdout",
          "text": [
            "Addition [5 7 9]\n",
            "Subtraction [-3 -3 -3]\n",
            "Multiplication [ 4 10 18]\n",
            "Broadcasting [[2 4 6]\n",
            " [5 7 9]]\n",
            "Reshaping [[1 2 3]\n",
            " [4 5 6]]\n",
            "Flattening [1 2 3 4 5 6]\n"
          ]
        }
      ]
    },
    {
      "cell_type": "markdown",
      "source": [
        "**Hands-On Coding**"
      ],
      "metadata": {
        "id": "55tAvR_h7WEb"
      }
    },
    {
      "cell_type": "code",
      "source": [],
      "metadata": {
        "id": "kFDBKfLA7Yl7"
      },
      "execution_count": null,
      "outputs": []
    }
  ]
}